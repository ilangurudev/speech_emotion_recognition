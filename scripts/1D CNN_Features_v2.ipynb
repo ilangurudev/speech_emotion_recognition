{
 "cells": [
  {
   "cell_type": "code",
   "execution_count": 157,
   "metadata": {
    "colab": {},
    "colab_type": "code",
    "id": "AAXzVICHpfwG"
   },
   "outputs": [],
   "source": [
    "import pandas as pd\n",
    "import numpy as np\n",
    "import tensorflow as tf\n",
    "\n",
    "import keras\n",
    "from keras import layers\n",
    "from keras.layers import Conv1D, GRU, Dense, BatchNormalization, Dropout, MaxPool1D,Activation, regularizers\n",
    "from keras import Sequential\n",
    "from keras.preprocessing import text\n",
    "from keras.layers import regularizers\n",
    "from keras.optimizers import Adam, RMSprop\n",
    "from keras.callbacks import EarlyStopping\n",
    "from keras.utils import to_categorical\n",
    "\n",
    "import scipy.io.wavfile as wav\n",
    "\n",
    "from sklearn.preprocessing import LabelEncoder\n",
    "\n",
    "import shutil\n",
    "import os\n",
    "from pathlib import Path \n",
    "import re\n",
    "from collections import OrderedDict\n",
    "\n",
    "from pyAudioAnalysis import audioBasicIO\n",
    "from pyAudioAnalysis import audioFeatureExtraction as aF\n",
    "\n",
    "\n",
    "from pandas_ml import ConfusionMatrix\n",
    "import matplotlib.pyplot as plt\n",
    "from sklearn.metrics import classification_report \n",
    "from sklearn.metrics import accuracy_score"
   ]
  },
  {
   "cell_type": "code",
   "execution_count": 158,
   "metadata": {
    "colab": {
     "base_uri": "https://localhost:8080/",
     "height": 35
    },
    "colab_type": "code",
    "id": "Un1-Vk0kprFI",
    "outputId": "f6c30f00-2fe6-42b4-c253-a4411e131ef8"
   },
   "outputs": [
    {
     "data": {
      "text/plain": [
       "['ComParE2018_AtypicalAffect.txt',\n",
       " 'readme.docx',\n",
       " 'Schuller_SpeechAnalysis.pdf',\n",
       " 'spectogram',\n",
       " 'wav']"
      ]
     },
     "execution_count": 158,
     "metadata": {},
     "output_type": "execute_result"
    }
   ],
   "source": [
    "path_data = Path('../data/')\n",
    "os.listdir(path_data)"
   ]
  },
  {
   "cell_type": "code",
   "execution_count": 159,
   "metadata": {},
   "outputs": [],
   "source": [
    "df_labs = pd.read_csv(path_data/'ComParE2018_AtypicalAffect.txt', sep='\\t')\n",
    "\n",
    "def getData(file):\n",
    "    [fs,x]  = audioBasicIO.readAudioFile(path_data/'wav'/file)\n",
    "    x = np.resize(x,(fs*4,))\n",
    "    [s,t] = aF.stFeatureExtraction(x,fs,0.050*fs,0.025*fs)\n",
    "    s = s.T\n",
    "    return s\n",
    "\n",
    "def fetch_data(directory='wav/', subset='train'):\n",
    "    sub = df_labs['file_name'].apply(lambda fn: subset in fn)\n",
    "    df_lab_sub = df_labs[sub]\n",
    "    y = df_lab_sub['emotion'].values\n",
    "    fn = df_lab_sub['file_name']\n",
    "\n",
    "    X = OrderedDict()\n",
    "    for f in fn:\n",
    "        X[f] = getData(f)\n",
    "        \n",
    "    return X.values(), y"
   ]
  },
  {
   "cell_type": "code",
   "execution_count": 160,
   "metadata": {},
   "outputs": [],
   "source": [
    "(tr_X, tr_y) = fetch_data(directory=path_data/'wav', subset='train')\n",
    "(dv_X, dv_y) = fetch_data(directory=path_data/'wav', subset='devel')\n",
    "(test_X, test_y) = fetch_data(directory=path_data/'wav', subset='test')"
   ]
  },
  {
   "cell_type": "code",
   "execution_count": 161,
   "metadata": {},
   "outputs": [],
   "source": [
    "tr_X = np.asarray(list(tr_X))\n",
    "dv_X = np.asarray(list(dv_X))\n",
    "test_X = np.asarray(list(test_X))"
   ]
  },
  {
   "cell_type": "code",
   "execution_count": 83,
   "metadata": {},
   "outputs": [],
   "source": [
    "# DATA_TRAIN = tr_X\n",
    "# DATA_dev = dv_X\n",
    "# DATA_test = test_X\n",
    "\n",
    "#FOR TESTING PURPOSE"
   ]
  },
  {
   "cell_type": "code",
   "execution_count": null,
   "metadata": {},
   "outputs": [],
   "source": [
    "# def normalize_data(tr_X, val_X = None, ts_X=None):\n",
    "#     m = tr_X.mean(axis=1)\n",
    "#     sd = tr_X.std(axis=1)\n",
    "#     return m,sd,(tr_X-m)/sd #, (val_X-m)/sd, (ts_X-m)/sd, \n",
    "\n",
    "# tr_mean,tr_sd,tr_X = normalize_data(tr_X)\n",
    "# dv_X = (dv_X-tr_mean)/tr_sd\n",
    "# test_X = (test_X-tr_mean)/tr_sd\n",
    "#PREVIOUS NORMALIZING"
   ]
  },
  {
   "cell_type": "code",
   "execution_count": 162,
   "metadata": {},
   "outputs": [],
   "source": [
    "m = np.mean(tr_X.mean(axis=1),axis=0)\n",
    "std = np.mean(tr_X.std(axis=1),axis=0)\n",
    "\n",
    "def normalize(mat):\n",
    "    global m\n",
    "    global std\n",
    "    print(np.shape(mat))\n",
    "    m_temp = np.reshape(m,(1,34))\n",
    "    std_temp = np.reshape(std,(1,34))\n",
    "    \n",
    "    mat = (mat - m_temp)/std_temp\n",
    "    return mat"
   ]
  },
  {
   "cell_type": "code",
   "execution_count": null,
   "metadata": {},
   "outputs": [],
   "source": [
    "for i in range(np.shape(tr_X)[0]):\n",
    "    tr_X[i] = normalize(tr_X[i])\n",
    "    \n",
    "for i in range(np.shape(dv_X)[0]):\n",
    "    dv_X[i] = normalize(dv_X[i])\n",
    "    \n",
    "for i in range(np.shape(test_X)[0]):\n",
    "    test_X[i] = normalize(test_X[i]) "
   ]
  },
  {
   "cell_type": "code",
   "execution_count": 164,
   "metadata": {
    "colab": {},
    "colab_type": "code",
    "id": "KIyMWO2aqPzY"
   },
   "outputs": [],
   "source": [
    "le = LabelEncoder()\n",
    "tr_y = le.fit_transform(tr_y)\n",
    "dv_y = le.fit_transform(dv_y)\n",
    "test_y = le.fit_transform(test_y)"
   ]
  },
  {
   "cell_type": "code",
   "execution_count": 165,
   "metadata": {},
   "outputs": [
    {
     "data": {
      "text/plain": [
       "array([ 1.46130302,  4.49798116, 17.87165775, 26.736     ])"
      ]
     },
     "execution_count": 165,
     "metadata": {},
     "output_type": "execute_result"
    }
   ],
   "source": [
    "from collections import Counter\n",
    "c = Counter(tr_y)\n",
    "len(tr_y)/np.asarray(list(c.values())) #class weights based on number of samples"
   ]
  },
  {
   "cell_type": "code",
   "execution_count": 166,
   "metadata": {},
   "outputs": [],
   "source": [
    "class_weight = {0: 23.736,\n",
    "                1: 4.49798116,\n",
    "                2: 1.46130302,\n",
    "                3: 17.87165775}\n",
    "\n",
    "es = EarlyStopping(monitor='val_loss', mode='min', verbose=1,patience=10)"
   ]
  },
  {
   "cell_type": "code",
   "execution_count": 247,
   "metadata": {},
   "outputs": [
    {
     "name": "stdout",
     "output_type": "stream",
     "text": [
      "_________________________________________________________________\n",
      "Layer (type)                 Output Shape              Param #   \n",
      "=================================================================\n",
      "conv1d_1 (Conv1D)            (None, 150, 15)           5115      \n",
      "_________________________________________________________________\n",
      "max_pooling1d_1 (MaxPooling1 (None, 75, 15)            0         \n",
      "_________________________________________________________________\n",
      "dropout_1 (Dropout)          (None, 75, 15)            0         \n",
      "_________________________________________________________________\n",
      "conv1d_2 (Conv1D)            (None, 69, 32)            3392      \n",
      "_________________________________________________________________\n",
      "max_pooling1d_2 (MaxPooling1 (None, 34, 32)            0         \n",
      "_________________________________________________________________\n",
      "dropout_2 (Dropout)          (None, 34, 32)            0         \n",
      "_________________________________________________________________\n",
      "conv1d_3 (Conv1D)            (None, 30, 32)            5152      \n",
      "_________________________________________________________________\n",
      "max_pooling1d_3 (MaxPooling1 (None, 15, 32)            0         \n",
      "_________________________________________________________________\n",
      "dropout_3 (Dropout)          (None, 15, 32)            0         \n",
      "_________________________________________________________________\n",
      "flatten_1 (Flatten)          (None, 480)               0         \n",
      "_________________________________________________________________\n",
      "dense_1 (Dense)              (None, 4)                 1924      \n",
      "_________________________________________________________________\n",
      "dropout_4 (Dropout)          (None, 4)                 0         \n",
      "_________________________________________________________________\n",
      "dense_2 (Dense)              (None, 4)                 20        \n",
      "=================================================================\n",
      "Total params: 15,603\n",
      "Trainable params: 15,603\n",
      "Non-trainable params: 0\n",
      "_________________________________________________________________\n"
     ]
    }
   ],
   "source": [
    "keras.backend.clear_session()\n",
    "model = Sequential()\n",
    "model.add(Conv1D(filters=15, kernel_size=10, activation='relu', input_shape=(np.shape(tr_X)[1], np.shape(tr_X)[2])))\n",
    "model.add(MaxPool1D(pool_size=2))\n",
    "model.add(Dropout(0.1))\n",
    "\n",
    "model.add(Conv1D(filters=32, kernel_size=7, activation='relu'))\n",
    "model.add(MaxPool1D(pool_size=2))\n",
    "model.add(Dropout(0.1))\n",
    "\n",
    "model.add(Conv1D(filters=32, kernel_size=5, activation='relu'))\n",
    "model.add(MaxPool1D(pool_size=2))\n",
    "model.add(Dropout(0.1))\n",
    "\n",
    "model.add(layers.Flatten())\n",
    "model.add(Dense(4, activation='sigmoid'))\n",
    "model.add(Dropout(0.1))\n",
    "model.add(Dense(4, activation='softmax'))\n",
    "model.compile(optimizer=RMSprop(lr=.0001), loss='sparse_categorical_crossentropy', metrics=['acc'])\n",
    "model.summary()"
   ]
  },
  {
   "cell_type": "code",
   "execution_count": 248,
   "metadata": {
    "scrolled": false
   },
   "outputs": [
    {
     "name": "stdout",
     "output_type": "stream",
     "text": [
      "Train on 3342 samples, validate on 3000 samples\n",
      "Epoch 1/100\n",
      "3342/3342 [==============================] - 3s 1ms/step - loss: 5.5386 - acc: 0.1565 - val_loss: 1.4653 - val_acc: 0.2137\n",
      "Epoch 2/100\n",
      "3342/3342 [==============================] - 3s 748us/step - loss: 5.3559 - acc: 0.1954 - val_loss: 1.4235 - val_acc: 0.1983\n",
      "Epoch 3/100\n",
      "3342/3342 [==============================] - 3s 773us/step - loss: 5.1992 - acc: 0.2178 - val_loss: 1.3873 - val_acc: 0.1580\n",
      "Epoch 4/100\n",
      "3342/3342 [==============================] - 3s 757us/step - loss: 5.0678 - acc: 0.2334 - val_loss: 1.4111 - val_acc: 0.1530\n",
      "Epoch 5/100\n",
      "3342/3342 [==============================] - 2s 708us/step - loss: 4.9585 - acc: 0.2343 - val_loss: 1.4363 - val_acc: 0.1353\n",
      "Epoch 6/100\n",
      "3342/3342 [==============================] - 3s 768us/step - loss: 4.8925 - acc: 0.2139 - val_loss: 1.4278 - val_acc: 0.1387\n",
      "Epoch 7/100\n",
      "3342/3342 [==============================] - 3s 785us/step - loss: 4.8034 - acc: 0.2606 - val_loss: 1.4294 - val_acc: 0.1503\n",
      "Epoch 8/100\n",
      "3342/3342 [==============================] - 3s 799us/step - loss: 4.7445 - acc: 0.2747 - val_loss: 1.4708 - val_acc: 0.1503\n",
      "Epoch 9/100\n",
      "3342/3342 [==============================] - 3s 840us/step - loss: 4.7765 - acc: 0.2962 - val_loss: 1.4391 - val_acc: 0.1713\n",
      "Epoch 10/100\n",
      "3342/3342 [==============================] - 3s 816us/step - loss: 4.6983 - acc: 0.2947 - val_loss: 1.4299 - val_acc: 0.1990\n",
      "Epoch 11/100\n",
      "3342/3342 [==============================] - 3s 820us/step - loss: 4.6833 - acc: 0.3166 - val_loss: 1.4443 - val_acc: 0.1797\n",
      "Epoch 12/100\n",
      "3342/3342 [==============================] - 3s 832us/step - loss: 4.6521 - acc: 0.3312 - val_loss: 1.4639 - val_acc: 0.1667\n",
      "Epoch 13/100\n",
      "3342/3342 [==============================] - 3s 822us/step - loss: 4.5961 - acc: 0.3076 - val_loss: 1.4330 - val_acc: 0.2190\n",
      "Epoch 00013: early stopping\n"
     ]
    },
    {
     "data": {
      "text/plain": [
       "<keras.callbacks.History at 0x23c831935c0>"
      ]
     },
     "execution_count": 248,
     "metadata": {},
     "output_type": "execute_result"
    }
   ],
   "source": [
    "model.fit(tr_X, tr_y, epochs=100,validation_data=(dv_X, dv_y),class_weight=class_weight, callbacks=[es])"
   ]
  },
  {
   "cell_type": "code",
   "execution_count": 249,
   "metadata": {},
   "outputs": [],
   "source": [
    "y_pred = model.predict(dv_X)\n",
    "y_pred = y_pred.argmax(axis = 1)"
   ]
  },
  {
   "cell_type": "code",
   "execution_count": 254,
   "metadata": {},
   "outputs": [],
   "source": [
    "from keras.models import load_model\n",
    "\n",
    "model.save('1DCNNModel.h5')"
   ]
  },
  {
   "cell_type": "code",
   "execution_count": 250,
   "metadata": {},
   "outputs": [],
   "source": [
    "def reporting(y_test,y_pred):\n",
    "    confusion_matrix = ConfusionMatrix(y_test, y_pred)\n",
    "    confusion_matrix.plot()\n",
    "    plt.show()\n",
    "    print(confusion_matrix)\n",
    "    print(\"\\n\",classification_report(y_test,y_pred))\n",
    "    print(accuracy_score(y_test,y_pred))"
   ]
  },
  {
   "cell_type": "code",
   "execution_count": 251,
   "metadata": {
    "scrolled": true
   },
   "outputs": [
    {
     "data": {
      "image/png": "[encoded data removed]",
      "text/plain": [
       "<Figure size 648x576 with 2 Axes>"
      ]
     },
     "metadata": {
      "needs_background": "light"
     },
     "output_type": "display_data"
    },
    {
     "name": "stdout",
     "output_type": "stream",
     "text": [
      "Predicted    0    1    2     3  __all__\n",
      "Actual                                 \n",
      "0           20    4    1     8       33\n",
      "1          160   82  103   364      709\n",
      "2          546  193  402   883     2024\n",
      "3           35   18   28   153      234\n",
      "__all__    761  297  534  1408     3000\n",
      "\n",
      "               precision    recall  f1-score   support\n",
      "\n",
      "           0       0.03      0.61      0.05        33\n",
      "           1       0.28      0.12      0.16       709\n",
      "           2       0.75      0.20      0.31      2024\n",
      "           3       0.11      0.65      0.19       234\n",
      "\n",
      "   micro avg       0.22      0.22      0.22      3000\n",
      "   macro avg       0.29      0.39      0.18      3000\n",
      "weighted avg       0.58      0.22      0.27      3000\n",
      "\n",
      "0.219\n"
     ]
    }
   ],
   "source": [
    "reporting(dv_y,y_pred) #on validation set"
   ]
  },
  {
   "cell_type": "code",
   "execution_count": 252,
   "metadata": {},
   "outputs": [
    {
     "data": {
      "image/png": "[encoded data removed]",
      "text/plain": [
       "<Figure size 648x576 with 2 Axes>"
      ]
     },
     "metadata": {
      "needs_background": "light"
     },
     "output_type": "display_data"
    },
    {
     "name": "stdout",
     "output_type": "stream",
     "text": [
      "Predicted    0    1    2    3  __all__\n",
      "Actual                                \n",
      "0           11    2    0    1       14\n",
      "1           58   23   29  107      217\n",
      "2          187   81  139  284      691\n",
      "3           12    9    5   51       77\n",
      "__all__    268  115  173  443      999\n",
      "\n",
      "               precision    recall  f1-score   support\n",
      "\n",
      "           0       0.04      0.79      0.08        14\n",
      "           1       0.20      0.11      0.14       217\n",
      "           2       0.80      0.20      0.32       691\n",
      "           3       0.12      0.66      0.20        77\n",
      "\n",
      "   micro avg       0.22      0.22      0.22       999\n",
      "   macro avg       0.29      0.44      0.18       999\n",
      "weighted avg       0.61      0.22      0.27       999\n",
      "\n",
      "0.22422422422422422\n"
     ]
    }
   ],
   "source": [
    "#test prediction \n",
    "y_pred_t = model.predict(test_X)\n",
    "y_pred_t = y_pred_t.argmax(axis = 1)\n",
    "reporting(test_y,y_pred_t)"
   ]
  },
  {
   "cell_type": "code",
   "execution_count": null,
   "metadata": {},
   "outputs": [],
   "source": []
  }
 ],
 "metadata": {
  "accelerator": "GPU",
  "colab": {
   "collapsed_sections": [],
   "name": "voice_mood_recog.ipynb",
   "provenance": [],
   "version": "0.3.2"
  },
  "kernelspec": {
   "display_name": "Python 3",
   "language": "python",
   "name": "python3"
  },
  "language_info": {
   "codemirror_mode": {
    "name": "ipython",
    "version": 3
   },
   "file_extension": ".py",
   "mimetype": "text/x-python",
   "name": "python",
   "nbconvert_exporter": "python",
   "pygments_lexer": "ipython3",
   "version": "3.7.1"
  },
  "toc": {
   "base_numbering": 1,
   "nav_menu": {},
   "number_sections": true,
   "sideBar": true,
   "skip_h1_title": false,
   "title_cell": "Table of Contents",
   "title_sidebar": "Contents",
   "toc_cell": false,
   "toc_position": {},
   "toc_section_display": true,
   "toc_window_display": false
  },
  "varInspector": {
   "cols": {
    "lenName": 16,
    "lenType": 16,
    "lenVar": 40
   },
   "kernels_config": {
    "python": {
     "delete_cmd_postfix": "",
     "delete_cmd_prefix": "del ",
     "library": "var_list.py",
     "varRefreshCmd": "print(var_dic_list())"
    },
    "r": {
     "delete_cmd_postfix": ") ",
     "delete_cmd_prefix": "rm(",
     "library": "var_list.r",
     "varRefreshCmd": "cat(var_dic_list()) "
    }
   },
   "types_to_exclude": [
    "module",
    "function",
    "builtin_function_or_method",
    "instance",
    "_Feature"
   ],
   "window_display": false
  }
 },
 "nbformat": 4,
 "nbformat_minor": 1
}
