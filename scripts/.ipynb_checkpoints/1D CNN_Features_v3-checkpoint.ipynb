{
 "cells": [
  {
   "cell_type": "markdown",
   "metadata": {},
   "source": [
    "# Libraries"
   ]
  },
  {
   "cell_type": "code",
   "execution_count": 41,
   "metadata": {
    "colab": {},
    "colab_type": "code",
    "id": "AAXzVICHpfwG"
   },
   "outputs": [],
   "source": [
    "import pandas as pd\n",
    "import numpy as np\n",
    "import tensorflow as tf\n",
    "\n",
    "import keras\n",
    "from keras import layers\n",
    "from keras.layers import Conv1D, GRU, Dense, BatchNormalization, Dropout, MaxPool1D,Activation, regularizers\n",
    "from keras import Sequential\n",
    "from keras.preprocessing import text\n",
    "from keras.layers import regularizers\n",
    "from keras.optimizers import Adam, RMSprop\n",
    "from keras.callbacks import EarlyStopping\n",
    "from keras.utils import to_categorical\n",
    "from keras import callbacks\n",
    "from keras.callbacks import Callback\n",
    "from keras.models import load_model\n",
    "\n",
    "import scipy.io.wavfile as wav\n",
    "\n",
    "from sklearn.preprocessing import LabelEncoder\n",
    "\n",
    "import shutil\n",
    "import os\n",
    "from pathlib import Path \n",
    "import re\n",
    "from collections import OrderedDict\n",
    "\n",
    "from pyAudioAnalysis import audioBasicIO\n",
    "from pyAudioAnalysis import audioFeatureExtraction as aF\n",
    "\n",
    "\n",
    "from pandas_ml import ConfusionMatrix\n",
    "import matplotlib.pyplot as plt\n",
    "from sklearn.metrics import classification_report, confusion_matrix\n",
    "from sklearn.metrics import accuracy_score, recall_score\n",
    "\n",
    "import pickle"
   ]
  },
  {
   "cell_type": "markdown",
   "metadata": {},
   "source": [
    "# Data Processing and Saving"
   ]
  },
  {
   "cell_type": "code",
   "execution_count": 4,
   "metadata": {
    "colab": {
     "base_uri": "https://localhost:8080/",
     "height": 35
    },
    "colab_type": "code",
    "id": "Un1-Vk0kprFI",
    "outputId": "f6c30f00-2fe6-42b4-c253-a4411e131ef8"
   },
   "outputs": [
    {
     "data": {
      "text/plain": [
       "['wav',\n",
       " 'spectogram',\n",
       " 'Schuller_SpeechAnalysis.pdf',\n",
       " 'time_series_pitch.csv',\n",
       " 'X_devel_summary.csv',\n",
       " 'readme.docx',\n",
       " 'train_4-sec.csv',\n",
       " 'devel_4-sec.csv',\n",
       " 'X_train_summary.csv',\n",
       " 'y_train.npy',\n",
       " 'ComParE2018_AtypicalAffect.txt',\n",
       " 'X_test_summary.csv',\n",
       " 'test_4-sec.csv',\n",
       " 'X_train_zero_np.npy']"
      ]
     },
     "execution_count": 4,
     "metadata": {},
     "output_type": "execute_result"
    }
   ],
   "source": [
    "path_data = Path('../data/')\n",
    "os.listdir(path_data)"
   ]
  },
  {
   "cell_type": "code",
   "execution_count": 8,
   "metadata": {},
   "outputs": [],
   "source": [
    "df_labs = pd.read_csv(path_data/'ComParE2018_AtypicalAffect.txt', sep='\\t')\n",
    "\n",
    "def get_raw_data(file):\n",
    "    [fs,x]  = audioBasicIO.readAudioFile(path_data/'wav'/file)\n",
    "    [s,t] = aF.stFeatureExtraction(x,fs,0.050*fs,0.025*fs)\n",
    "    s = s.T\n",
    "    return s\n",
    "\n",
    "def fetch_data(directory='wav/', subset='train'):\n",
    "    sub = df_labs['file_name'].apply(lambda fn: subset in fn)\n",
    "    df_lab_sub = df_labs[sub]\n",
    "    y = df_lab_sub['emotion'].values\n",
    "    fn = df_lab_sub['file_name']\n",
    "    X = OrderedDict()\n",
    "    for f in fn:\n",
    "        X[f] = get_raw_data(f)\n",
    "        \n",
    "    return X.values(), y\n",
    "\n",
    "#     x = np.resize(x,(fs*4,))\n",
    "#     x = np.pad(x, fs*4, mode='constant')[:fs*4]"
   ]
  },
  {
   "cell_type": "code",
   "execution_count": null,
   "metadata": {},
   "outputs": [],
   "source": [
    "(tr_X_raw, tr_y) = fetch_data(directory=path_data/'wav', subset='train')\n"
   ]
  },
  {
   "cell_type": "code",
   "execution_count": 13,
   "metadata": {},
   "outputs": [],
   "source": [
    "(dv_X_raw, dv_y) = fetch_data(directory=path_data/'wav', subset='devel')\n"
   ]
  },
  {
   "cell_type": "code",
   "execution_count": 14,
   "metadata": {},
   "outputs": [],
   "source": [
    "(test_X_raw, test_y) = fetch_data(directory=path_data/'wav', subset='test')\n"
   ]
  },
  {
   "cell_type": "code",
   "execution_count": 88,
   "metadata": {},
   "outputs": [],
   "source": [
    "with open(\"tr_X_raw.pkl\", \"wb\") as f:\n",
    "    pickle.dump(list(tr_X_raw), f)\n",
    "    \n",
    "with open(\"dv_X_raw.pkl\", \"wb\") as f:\n",
    "    pickle.dump(list(dv_X_raw), f)\n",
    "    \n",
    "with open(\"test_X_raw.pkl\", \"wb\") as f:\n",
    "    pickle.dump(list(test_X_raw), f)\n",
    "    \n",
    "    \n",
    "with open(\"tr_y.pkl\", \"wb\") as f:\n",
    "    pickle.dump(tr_y, f)\n",
    "    \n",
    "with open(\"dv_y.pkl\", \"wb\") as f:\n",
    "    pickle.dump(dv_y, f)\n",
    "    \n",
    "with open(\"test_y.pkl\", \"wb\") as f:\n",
    "    pickle.dump(test_y, f)"
   ]
  },
  {
   "cell_type": "markdown",
   "metadata": {},
   "source": [
    "# Resume from here"
   ]
  },
  {
   "cell_type": "code",
   "execution_count": 42,
   "metadata": {},
   "outputs": [],
   "source": [
    "with open(\"tr_X_raw.pkl\", \"rb\") as f:\n",
    "    tr_X_raw = pickle.load(f)\n",
    "    \n",
    "with open(\"dv_X_raw.pkl\", \"rb\") as f:\n",
    "    dv_X_raw = pickle.load(f)\n",
    "    \n",
    "with open(\"test_X_raw.pkl\", \"rb\") as f:\n",
    "    test_X_raw = pickle.load(f)\n",
    "    \n",
    "    \n",
    "with open(\"tr_y.pkl\", \"rb\") as f:\n",
    "    tr_y = pickle.load(f)\n",
    "    \n",
    "with open(\"dv_y.pkl\", \"rb\") as f:\n",
    "    dv_y = pickle.load(f)\n",
    "    \n",
    "with open(\"test_y.pkl\", \"rb\") as f:\n",
    "    test_y = pickle.load(f)"
   ]
  },
  {
   "cell_type": "code",
   "execution_count": 43,
   "metadata": {},
   "outputs": [],
   "source": [
    "def pad_data(X, pad_len=100, pad_zero=True):\n",
    "    arr = []\n",
    "    for x in X:\n",
    "        if pad_zero:\n",
    "            x = np.vstack([x, np.zeros((100, x.shape[1]))])[:100][np.newaxis, :, :]\n",
    "        else:\n",
    "            x = np.resize(x,(pad_len,x.shape[1]))[np.newaxis, :, :]\n",
    "        arr.append(x)\n",
    "    return np.vstack(arr)"
   ]
  },
  {
   "cell_type": "code",
   "execution_count": 44,
   "metadata": {},
   "outputs": [],
   "source": [
    "tr_X_pad = pad_data(tr_X_raw)\n",
    "dv_X_pad = pad_data(dv_X_raw)\n",
    "test_X_pad = pad_data(test_X_raw)"
   ]
  },
  {
   "cell_type": "code",
   "execution_count": 7,
   "metadata": {},
   "outputs": [],
   "source": [
    "m = np.mean(tr_X_pad.mean(axis=1),axis=0).reshape((1,34))\n",
    "std = np.mean(tr_X_pad.std(axis=1),axis=0).reshape((1,34))\n",
    "\n",
    "def normalize(mat):\n",
    "    mat = (mat - m)/std\n",
    "    return mat\n",
    "\n",
    "tr_X = normalize(tr_X_pad)\n",
    "dv_X = normalize(dv_X_pad)\n",
    "test_X = normalize(test_X_pad)"
   ]
  },
  {
   "cell_type": "code",
   "execution_count": 74,
   "metadata": {},
   "outputs": [],
   "source": [
    "# m = np.mean(tr_X_pad.mean(axis=1),axis=0)\n",
    "# std = np.mean(tr_X_pad.std(axis=1),axis=0)\n",
    "\n",
    "# def normalize(mat):\n",
    "#     global m\n",
    "#     global std\n",
    "#     m_temp = np.reshape(m,(1,34))\n",
    "#     std_temp = np.reshape(std,(1,34))\n",
    "    \n",
    "#     mat = (mat - m_temp)/std_temp\n",
    "#     return mat\n",
    "\n",
    "# for i in range(np.shape(tr_X_pad)[0]):\n",
    "#     tr_X[i] = normalize(tr_X_pad[i])\n",
    "    \n",
    "# for i in range(np.shape(dv_X_pad)[0]):\n",
    "#     dv_X[i] = normalize(dv_X_pad[i])\n",
    "    \n",
    "# for i in range(np.shape(test_X_pad)[0]):\n",
    "#     test_X[i] = normalize(test_X_pad[i]) \n",
    "    \n",
    "# # tr_X.reshape(-1, 34).mean(axis=0),dv_X.reshape(-1, 34).mean(axis=0),test_X.reshape(-1, 34).mean(axis=0)"
   ]
  },
  {
   "cell_type": "code",
   "execution_count": 46,
   "metadata": {
    "colab": {},
    "colab_type": "code",
    "id": "KIyMWO2aqPzY"
   },
   "outputs": [
    {
     "data": {
      "text/plain": [
       "array(['angry', 'happy', 'neutral', 'sad'], dtype=object)"
      ]
     },
     "execution_count": 46,
     "metadata": {},
     "output_type": "execute_result"
    }
   ],
   "source": [
    "le = LabelEncoder()\n",
    "tr_y = le.fit_transform(tr_y)\n",
    "dv_y = le.transform(dv_y)\n",
    "test_y = le.transform(test_y)\n",
    "le.inverse_transform([0,1,2,3])"
   ]
  },
  {
   "cell_type": "code",
   "execution_count": 47,
   "metadata": {},
   "outputs": [
    {
     "data": {
      "text/plain": [
       "array([ 1.46130302,  4.49798116, 17.87165775, 26.736     ])"
      ]
     },
     "execution_count": 47,
     "metadata": {},
     "output_type": "execute_result"
    }
   ],
   "source": [
    "from collections import Counter\n",
    "c = Counter(tr_y)\n",
    "len(tr_y)/np.asarray(list(c.values())) #class weights based on number of samples"
   ]
  },
  {
   "cell_type": "code",
   "execution_count": 48,
   "metadata": {},
   "outputs": [
    {
     "data": {
      "text/plain": [
       "{0: 0.4990020177233622,\n",
       " 1: 0.09456107492929176,\n",
       " 2: 0.030720978913264353,\n",
       " 3: 0.37571592843408175}"
      ]
     },
     "execution_count": 48,
     "metadata": {},
     "output_type": "execute_result"
    }
   ],
   "source": [
    "class_weight = {0: 23.736,\n",
    "                1: 4.49798116,\n",
    "                2: 1.46130302,\n",
    "                3: 17.87165775}\n",
    "\n",
    "# same weights but add up to zero (so loss is easier to interpret)\n",
    "class_weights_rescaled = {i:k/sum(class_weight.values()) for i,k in enumerate(class_weight.values())}\n",
    "class_weights_rescaled"
   ]
  },
  {
   "cell_type": "code",
   "execution_count": 59,
   "metadata": {},
   "outputs": [
    {
     "name": "stdout",
     "output_type": "stream",
     "text": [
      "_________________________________________________________________\n",
      "Layer (type)                 Output Shape              Param #   \n",
      "=================================================================\n",
      "conv1d_1 (Conv1D)            (None, 91, 15)            5115      \n",
      "_________________________________________________________________\n",
      "max_pooling1d_1 (MaxPooling1 (None, 45, 15)            0         \n",
      "_________________________________________________________________\n",
      "dropout_1 (Dropout)          (None, 45, 15)            0         \n",
      "_________________________________________________________________\n",
      "conv1d_2 (Conv1D)            (None, 39, 32)            3392      \n",
      "_________________________________________________________________\n",
      "max_pooling1d_2 (MaxPooling1 (None, 19, 32)            0         \n",
      "_________________________________________________________________\n",
      "dropout_2 (Dropout)          (None, 19, 32)            0         \n",
      "_________________________________________________________________\n",
      "conv1d_3 (Conv1D)            (None, 15, 32)            5152      \n",
      "_________________________________________________________________\n",
      "max_pooling1d_3 (MaxPooling1 (None, 7, 32)             0         \n",
      "_________________________________________________________________\n",
      "dropout_3 (Dropout)          (None, 7, 32)             0         \n",
      "_________________________________________________________________\n",
      "flatten_1 (Flatten)          (None, 224)               0         \n",
      "_________________________________________________________________\n",
      "dense_1 (Dense)              (None, 4)                 900       \n",
      "_________________________________________________________________\n",
      "dense_2 (Dense)              (None, 4)                 20        \n",
      "=================================================================\n",
      "Total params: 14,579\n",
      "Trainable params: 14,579\n",
      "Non-trainable params: 0\n",
      "_________________________________________________________________\n"
     ]
    }
   ],
   "source": [
    "keras.backend.clear_session()\n",
    "model = Sequential()\n",
    "model.add(Conv1D(filters=15, kernel_size=10, activation='relu', input_shape=tr_X.shape[1:]))\n",
    "model.add(MaxPool1D(pool_size=2))\n",
    "model.add(Dropout(0.1))\n",
    "\n",
    "model.add(Conv1D(filters=32, kernel_size=7, activation='relu'))\n",
    "model.add(MaxPool1D(pool_size=2))\n",
    "model.add(Dropout(0.1))\n",
    "\n",
    "model.add(Conv1D(filters=32, kernel_size=5, activation='relu'))\n",
    "model.add(MaxPool1D(pool_size=2))\n",
    "model.add(Dropout(0.1))\n",
    "\n",
    "model.add(layers.Flatten())\n",
    "model.add(Dense(4, activation='sigmoid'))\n",
    "# model.add(Dropout(0.1))\n",
    "model.add(Dense(4, activation='softmax'))\n",
    "model.compile(optimizer=RMSprop(lr=.0001), \n",
    "              loss='sparse_categorical_crossentropy', \n",
    "              metrics=['acc'])\n",
    "model.summary()"
   ]
  },
  {
   "cell_type": "code",
   "execution_count": 60,
   "metadata": {},
   "outputs": [],
   "source": [
    "class UAR(Callback):\n",
    "    def on_train_begin(self, logs={}):\n",
    "        self.val_recalls = []\n",
    "        self.max_recall = 0\n",
    "\n",
    "    def on_epoch_end(self, epoch, logs={}):\n",
    "        val_predict = np.argmax(((self.model.predict(self.validation_data[0]))),\n",
    "                                axis=1)\n",
    "        val_targ = self.validation_data[1]\n",
    "        _val_recall = recall_score(val_targ, val_predict, average=\"macro\")\n",
    "        self.val_recalls.append(_val_recall)\n",
    "        print('UAR:'+str(_val_recall))\n",
    "        if _val_recall > self.max_recall:\n",
    "            self.max_recall = _val_recall\n",
    "            self.model.save(\"1DCNNModel-v3x.h5\")\n",
    "            print('UAR imporved. Saving model\\n')\n",
    "        return _val_recall\n",
    "\n",
    "uar = UAR()\n",
    "\n",
    "reduce_lr = callbacks.ReduceLROnPlateau(monitor='val_loss', factor=0.2,\n",
    "                                        patience=5, min_lr=.00001)"
   ]
  },
  {
   "cell_type": "code",
   "execution_count": 61,
   "metadata": {
    "scrolled": false
   },
   "outputs": [
    {
     "name": "stdout",
     "output_type": "stream",
     "text": [
      "Train on 3342 samples, validate on 3000 samples\n",
      "Epoch 1/100\n",
      "3342/3342 [==============================] - 1s 335us/step - loss: 0.1162 - acc: 0.0673 - val_loss: 1.6127 - val_acc: 0.0987\n",
      "UAR:0.254164050179565\n",
      "UAR imporved. Saving model\n",
      "\n",
      "Epoch 2/100\n",
      "3342/3342 [==============================] - 1s 251us/step - loss: 0.1142 - acc: 0.1005 - val_loss: 1.5288 - val_acc: 0.1223\n",
      "UAR:0.2664464707835653\n",
      "UAR imporved. Saving model\n",
      "\n",
      "Epoch 3/100\n",
      "3342/3342 [==============================] - 1s 263us/step - loss: 0.1129 - acc: 0.1445 - val_loss: 1.4967 - val_acc: 0.1117\n",
      "UAR:0.2849677747421048\n",
      "UAR imporved. Saving model\n",
      "\n",
      "Epoch 4/100\n",
      "3342/3342 [==============================] - 1s 263us/step - loss: 0.1120 - acc: 0.1424 - val_loss: 1.5085 - val_acc: 0.0767\n",
      "UAR:0.30943877858546404\n",
      "UAR imporved. Saving model\n",
      "\n",
      "Epoch 5/100\n",
      "3342/3342 [==============================] - 1s 302us/step - loss: 0.1109 - acc: 0.1251 - val_loss: 1.5084 - val_acc: 0.0970\n",
      "UAR:0.3040062116225727\n",
      "Epoch 6/100\n",
      "3342/3342 [==============================] - 1s 318us/step - loss: 0.1102 - acc: 0.1376 - val_loss: 1.5173 - val_acc: 0.0897\n",
      "UAR:0.33672462939035575\n",
      "UAR imporved. Saving model\n",
      "\n",
      "Epoch 7/100\n",
      "3342/3342 [==============================] - 1s 279us/step - loss: 0.1092 - acc: 0.1266 - val_loss: 1.5371 - val_acc: 0.0943\n",
      "UAR:0.36970702467881594\n",
      "UAR imporved. Saving model\n",
      "\n",
      "Epoch 8/100\n",
      "3342/3342 [==============================] - 1s 311us/step - loss: 0.1081 - acc: 0.1332 - val_loss: 1.5297 - val_acc: 0.1007\n",
      "UAR:0.37868486317005357\n",
      "UAR imporved. Saving model\n",
      "\n",
      "Epoch 9/100\n",
      "3342/3342 [==============================] - 1s 288us/step - loss: 0.1076 - acc: 0.1412 - val_loss: 1.5326 - val_acc: 0.0977\n",
      "UAR:0.37909021318753333\n",
      "UAR imporved. Saving model\n",
      "\n",
      "Epoch 10/100\n",
      "3342/3342 [==============================] - 1s 292us/step - loss: 0.1074 - acc: 0.1406 - val_loss: 1.5350 - val_acc: 0.0983\n",
      "UAR:0.38337426560275645\n",
      "UAR imporved. Saving model\n",
      "\n",
      "Epoch 11/100\n",
      "3342/3342 [==============================] - 1s 288us/step - loss: 0.1074 - acc: 0.1400 - val_loss: 1.5376 - val_acc: 0.0990\n",
      "UAR:0.38622678449899883\n",
      "UAR imporved. Saving model\n",
      "\n",
      "Epoch 12/100\n",
      "3342/3342 [==============================] - 1s 277us/step - loss: 0.1070 - acc: 0.1385 - val_loss: 1.5391 - val_acc: 0.0970\n",
      "UAR:0.38339536188619405\n",
      "Epoch 13/100\n",
      "3342/3342 [==============================] - 1s 281us/step - loss: 0.1070 - acc: 0.1382 - val_loss: 1.5378 - val_acc: 0.0993\n",
      "UAR:0.38801092732686526\n",
      "UAR imporved. Saving model\n",
      "\n",
      "Epoch 14/100\n",
      "3342/3342 [==============================] - 1s 296us/step - loss: 0.1068 - acc: 0.1445 - val_loss: 1.5375 - val_acc: 0.0997\n",
      "UAR:0.388363536635751\n",
      "UAR imporved. Saving model\n",
      "\n",
      "Epoch 15/100\n",
      "3342/3342 [==============================] - 1s 279us/step - loss: 0.1064 - acc: 0.1406 - val_loss: 1.5384 - val_acc: 0.0993\n",
      "UAR:0.3887266940863556\n",
      "UAR imporved. Saving model\n",
      "\n",
      "Epoch 16/100\n",
      "3342/3342 [==============================] - 1s 281us/step - loss: 0.1068 - acc: 0.1326 - val_loss: 1.5385 - val_acc: 0.1000\n",
      "UAR:0.38871614594463677\n",
      "Epoch 17/100\n",
      "3342/3342 [==============================] - 1s 277us/step - loss: 0.1065 - acc: 0.1406 - val_loss: 1.5373 - val_acc: 0.1003\n",
      "UAR:0.3818456069866507\n",
      "Epoch 18/100\n",
      "3342/3342 [==============================] - 1s 297us/step - loss: 0.1062 - acc: 0.1424 - val_loss: 1.5378 - val_acc: 0.1000\n",
      "UAR:0.381492997677765\n",
      "Epoch 19/100\n",
      "3342/3342 [==============================] - 1s 277us/step - loss: 0.1064 - acc: 0.1338 - val_loss: 1.5367 - val_acc: 0.1017\n",
      "UAR:0.3832560442221937\n",
      "Epoch 20/100\n",
      "3342/3342 [==============================] - 1s 276us/step - loss: 0.1062 - acc: 0.1391 - val_loss: 1.5359 - val_acc: 0.1023\n",
      "UAR:0.38396126283996523\n",
      "Epoch 21/100\n",
      "3342/3342 [==============================] - 1s 284us/step - loss: 0.1065 - acc: 0.1394 - val_loss: 1.5363 - val_acc: 0.1023\n",
      "UAR:0.3846770295994556\n",
      "Epoch 22/100\n",
      "3342/3342 [==============================] - 1s 278us/step - loss: 0.1058 - acc: 0.1454 - val_loss: 1.5360 - val_acc: 0.1030\n",
      "UAR:0.3853822482172271\n",
      "Epoch 23/100\n",
      "3342/3342 [==============================] - 1s 280us/step - loss: 0.1061 - acc: 0.1409 - val_loss: 1.5355 - val_acc: 0.1027\n",
      "UAR:0.3850296389083413\n",
      "Epoch 24/100\n",
      "3342/3342 [==============================] - 1s 280us/step - loss: 0.1066 - acc: 0.1460 - val_loss: 1.5355 - val_acc: 0.1020\n",
      "UAR:0.3843244202905698\n",
      "Epoch 25/100\n",
      "3342/3342 [==============================] - 1s 295us/step - loss: 0.1059 - acc: 0.1433 - val_loss: 1.5367 - val_acc: 0.1017\n",
      "UAR:0.3839718109816841\n",
      "Epoch 26/100\n",
      "3342/3342 [==============================] - 1s 303us/step - loss: 0.1057 - acc: 0.1430 - val_loss: 1.5357 - val_acc: 0.1007\n",
      "UAR:0.3829139830550268\n",
      "Epoch 27/100\n",
      "3342/3342 [==============================] - 1s 309us/step - loss: 0.1065 - acc: 0.1445 - val_loss: 1.5369 - val_acc: 0.0990\n",
      "UAR:0.3797194029916173\n",
      "Epoch 28/100\n",
      "3342/3342 [==============================] - 1s 269us/step - loss: 0.1059 - acc: 0.1436 - val_loss: 1.5394 - val_acc: 0.0990\n",
      "UAR:0.381150936510598\n",
      "Epoch 29/100\n",
      "3342/3342 [==============================] - 1s 277us/step - loss: 0.1058 - acc: 0.1370 - val_loss: 1.5371 - val_acc: 0.1000\n",
      "UAR:0.38220876443725527\n",
      "Epoch 30/100\n",
      "3342/3342 [==============================] - 1s 273us/step - loss: 0.1060 - acc: 0.1439 - val_loss: 1.5377 - val_acc: 0.0997\n",
      "UAR:0.3818561551283695\n",
      "Epoch 31/100\n",
      "3342/3342 [==============================] - 1s 278us/step - loss: 0.1059 - acc: 0.1430 - val_loss: 1.5378 - val_acc: 0.0987\n",
      "UAR:0.38079832720171225\n",
      "Epoch 32/100\n",
      "3342/3342 [==============================] - 1s 267us/step - loss: 0.1057 - acc: 0.1409 - val_loss: 1.5388 - val_acc: 0.0973\n",
      "UAR:0.38010365672565954\n",
      "Epoch 33/100\n",
      "3342/3342 [==============================] - 1s 274us/step - loss: 0.1056 - acc: 0.1463 - val_loss: 1.5389 - val_acc: 0.0973\n",
      "UAR:0.38010365672565954\n",
      "Epoch 34/100\n",
      "3342/3342 [==============================] - 1s 276us/step - loss: 0.1056 - acc: 0.1436 - val_loss: 1.5372 - val_acc: 0.0970\n",
      "UAR:0.37831951389779317\n",
      "Epoch 35/100\n",
      "3342/3342 [==============================] - 1s 270us/step - loss: 0.1055 - acc: 0.1457 - val_loss: 1.5377 - val_acc: 0.0963\n",
      "UAR:0.37761429528002166\n",
      "Epoch 36/100\n",
      "3342/3342 [==============================] - 1s 256us/step - loss: 0.1056 - acc: 0.1448 - val_loss: 1.5372 - val_acc: 0.0957\n",
      "UAR:0.37690907666225015\n",
      "Epoch 37/100\n",
      "3342/3342 [==============================] - 1s 238us/step - loss: 0.1051 - acc: 0.1502 - val_loss: 1.5371 - val_acc: 0.0980\n",
      "UAR:0.38152464210292136\n",
      "Epoch 38/100\n",
      "3342/3342 [==============================] - 1s 253us/step - loss: 0.1051 - acc: 0.1472 - val_loss: 1.5359 - val_acc: 0.0970\n",
      "UAR:0.37831951389779317\n",
      "Epoch 39/100\n",
      "3342/3342 [==============================] - 1s 257us/step - loss: 0.1051 - acc: 0.1520 - val_loss: 1.5364 - val_acc: 0.0980\n",
      "UAR:0.38080887534343105\n",
      "Epoch 40/100\n",
      "3342/3342 [==============================] - 1s 254us/step - loss: 0.1053 - acc: 0.1472 - val_loss: 1.5359 - val_acc: 0.0963\n",
      "UAR:0.37833006203951197\n",
      "Epoch 41/100\n",
      "3342/3342 [==============================] - 1s 257us/step - loss: 0.1053 - acc: 0.1445 - val_loss: 1.5367 - val_acc: 0.0957\n",
      "UAR:0.37762484342174046\n",
      "Epoch 42/100\n",
      "3342/3342 [==============================] - 1s 253us/step - loss: 0.1051 - acc: 0.1463 - val_loss: 1.5365 - val_acc: 0.0960\n",
      "UAR:0.37869321949011653\n",
      "Epoch 43/100\n",
      "3342/3342 [==============================] - 1s 253us/step - loss: 0.1049 - acc: 0.1442 - val_loss: 1.5358 - val_acc: 0.0983\n",
      "UAR:0.3883846329191886\n",
      "Epoch 44/100\n",
      "3342/3342 [==============================] - 1s 285us/step - loss: 0.1051 - acc: 0.1559 - val_loss: 1.5358 - val_acc: 0.0990\n",
      "UAR:0.38908985153696013\n",
      "UAR imporved. Saving model\n",
      "\n",
      "Epoch 45/100\n",
      "3342/3342 [==============================] - 1s 258us/step - loss: 0.1051 - acc: 0.1481 - val_loss: 1.5367 - val_acc: 0.0980\n",
      "UAR:0.38803202361030287\n",
      "Epoch 46/100\n",
      "3342/3342 [==============================] - 1s 258us/step - loss: 0.1047 - acc: 0.1469 - val_loss: 1.5363 - val_acc: 0.0973\n",
      "UAR:0.38732680499253136\n",
      "Epoch 47/100\n",
      "3342/3342 [==============================] - 1s 284us/step - loss: 0.1047 - acc: 0.1472 - val_loss: 1.5358 - val_acc: 0.0980\n",
      "UAR:0.38731625685081256\n",
      "Epoch 48/100\n",
      "3342/3342 [==============================] - 1s 257us/step - loss: 0.1048 - acc: 0.1538 - val_loss: 1.5362 - val_acc: 0.0977\n",
      "UAR:0.3876794143014171\n",
      "Epoch 49/100\n"
     ]
    },
    {
     "name": "stdout",
     "output_type": "stream",
     "text": [
      "3342/3342 [==============================] - 1s 261us/step - loss: 0.1047 - acc: 0.1529 - val_loss: 1.5350 - val_acc: 0.0973\n",
      "UAR:0.3851795047140604\n",
      "Epoch 50/100\n",
      "3342/3342 [==============================] - 1s 264us/step - loss: 0.1044 - acc: 0.1520 - val_loss: 1.5356 - val_acc: 0.0980\n",
      "UAR:0.38731625685081256\n",
      "Epoch 51/100\n",
      "3342/3342 [==============================] - 1s 261us/step - loss: 0.1046 - acc: 0.1502 - val_loss: 1.5360 - val_acc: 0.0993\n",
      "UAR:0.3894424608458459\n",
      "UAR imporved. Saving model\n",
      "\n",
      "Epoch 52/100\n",
      "3342/3342 [==============================] - 1s 263us/step - loss: 0.1045 - acc: 0.1496 - val_loss: 1.5359 - val_acc: 0.0980\n",
      "UAR:0.38660049009132225\n",
      "Epoch 53/100\n",
      "3342/3342 [==============================] - 1s 260us/step - loss: 0.1046 - acc: 0.1514 - val_loss: 1.5355 - val_acc: 0.0980\n",
      "UAR:0.38660049009132225\n",
      "Epoch 54/100\n",
      "3342/3342 [==============================] - 1s 259us/step - loss: 0.1045 - acc: 0.1544 - val_loss: 1.5352 - val_acc: 0.0983\n",
      "UAR:0.386953099400208\n",
      "Epoch 55/100\n",
      "3342/3342 [==============================] - 1s 257us/step - loss: 0.1042 - acc: 0.1490 - val_loss: 1.5353 - val_acc: 0.0983\n",
      "UAR:0.386953099400208\n",
      "Epoch 56/100\n",
      "3342/3342 [==============================] - 1s 265us/step - loss: 0.1043 - acc: 0.1559 - val_loss: 1.5354 - val_acc: 0.1007\n",
      "UAR:0.39013713132189864\n",
      "UAR imporved. Saving model\n",
      "\n",
      "Epoch 57/100\n",
      "3342/3342 [==============================] - 1s 266us/step - loss: 0.1045 - acc: 0.1490 - val_loss: 1.5350 - val_acc: 0.1027\n",
      "UAR:0.3936843206941938\n",
      "UAR imporved. Saving model\n",
      "\n",
      "Epoch 58/100\n",
      "3342/3342 [==============================] - 1s 268us/step - loss: 0.1042 - acc: 0.1499 - val_loss: 1.5345 - val_acc: 0.1020\n",
      "UAR:0.3922633353169319\n",
      "Epoch 59/100\n",
      "3342/3342 [==============================] - 1s 260us/step - loss: 0.1041 - acc: 0.1601 - val_loss: 1.5356 - val_acc: 0.1023\n",
      "UAR:0.3926159446258177\n",
      "Epoch 60/100\n",
      "3342/3342 [==============================] - 1s 259us/step - loss: 0.1039 - acc: 0.1556 - val_loss: 1.5348 - val_acc: 0.1027\n",
      "UAR:0.3929685539347034\n",
      "Epoch 61/100\n",
      "3342/3342 [==============================] - 1s 263us/step - loss: 0.1043 - acc: 0.1568 - val_loss: 1.5354 - val_acc: 0.1017\n",
      "UAR:0.3919107260080462\n",
      "Epoch 62/100\n",
      "3342/3342 [==============================] - 1s 257us/step - loss: 0.1043 - acc: 0.1589 - val_loss: 1.5359 - val_acc: 0.1007\n",
      "UAR:0.3908528980813889\n",
      "Epoch 63/100\n",
      "3342/3342 [==============================] - 1s 264us/step - loss: 0.1040 - acc: 0.1541 - val_loss: 1.5344 - val_acc: 0.1030\n",
      "UAR:0.39332116324358923\n",
      "Epoch 64/100\n",
      "3342/3342 [==============================] - 1s 261us/step - loss: 0.1042 - acc: 0.1553 - val_loss: 1.5346 - val_acc: 0.1027\n",
      "UAR:0.392739462412379\n",
      "Epoch 65/100\n",
      "3342/3342 [==============================] - 1s 273us/step - loss: 0.1039 - acc: 0.1526 - val_loss: 1.5346 - val_acc: 0.1023\n",
      "UAR:0.3926159446258177\n",
      "Epoch 66/100\n",
      "3342/3342 [==============================] - 1s 308us/step - loss: 0.1043 - acc: 0.1502 - val_loss: 1.5336 - val_acc: 0.1033\n",
      "UAR:0.393215589507826\n",
      "Epoch 67/100\n",
      "3342/3342 [==============================] - 1s 313us/step - loss: 0.1038 - acc: 0.1544 - val_loss: 1.5321 - val_acc: 0.1047\n",
      "UAR:0.39416784369872004\n",
      "UAR imporved. Saving model\n",
      "\n",
      "Epoch 68/100\n",
      "3342/3342 [==============================] - 1s 276us/step - loss: 0.1037 - acc: 0.1583 - val_loss: 1.5307 - val_acc: 0.1053\n",
      "UAR:0.3955888290759818\n",
      "UAR imporved. Saving model\n",
      "\n",
      "Epoch 69/100\n",
      "3342/3342 [==============================] - 1s 276us/step - loss: 0.1036 - acc: 0.1622 - val_loss: 1.5315 - val_acc: 0.1047\n",
      "UAR:0.3948836104582103\n",
      "Epoch 70/100\n",
      "3342/3342 [==============================] - 1s 312us/step - loss: 0.1039 - acc: 0.1529 - val_loss: 1.5312 - val_acc: 0.1047\n",
      "UAR:0.39416784369872004\n",
      "Epoch 71/100\n",
      "3342/3342 [==============================] - 1s 284us/step - loss: 0.1038 - acc: 0.1592 - val_loss: 1.5319 - val_acc: 0.1043\n",
      "UAR:0.39381523438983423\n",
      "Epoch 72/100\n",
      "3342/3342 [==============================] - 1s 260us/step - loss: 0.1035 - acc: 0.1586 - val_loss: 1.5319 - val_acc: 0.1053\n",
      "UAR:0.39702036259496243\n",
      "UAR imporved. Saving model\n",
      "\n",
      "Epoch 73/100\n",
      "3342/3342 [==============================] - 1s 300us/step - loss: 0.1036 - acc: 0.1568 - val_loss: 1.5329 - val_acc: 0.1050\n",
      "UAR:0.39595198652658636\n",
      "Epoch 74/100\n",
      "3342/3342 [==============================] - 1s 280us/step - loss: 0.1036 - acc: 0.1550 - val_loss: 1.5310 - val_acc: 0.1047\n",
      "UAR:0.3948836104582103\n",
      "Epoch 75/100\n",
      "3342/3342 [==============================] - 1s 254us/step - loss: 0.1032 - acc: 0.1682 - val_loss: 1.5320 - val_acc: 0.1050\n",
      "UAR:0.3964386617637522\n",
      "Epoch 76/100\n",
      "3342/3342 [==============================] - 1s 258us/step - loss: 0.1033 - acc: 0.1622 - val_loss: 1.5323 - val_acc: 0.1060\n",
      "UAR:0.39821225644989977\n",
      "UAR imporved. Saving model\n",
      "\n",
      "Epoch 77/100\n",
      "3342/3342 [==============================] - 1s 309us/step - loss: 0.1033 - acc: 0.1574 - val_loss: 1.5314 - val_acc: 0.1053\n",
      "UAR:0.39607550431314764\n",
      "Epoch 78/100\n",
      "3342/3342 [==============================] - 1s 290us/step - loss: 0.1033 - acc: 0.1598 - val_loss: 1.5315 - val_acc: 0.1050\n",
      "UAR:0.3964386617637522\n",
      "Epoch 79/100\n",
      "3342/3342 [==============================] - 1s 308us/step - loss: 0.1032 - acc: 0.1538 - val_loss: 1.5308 - val_acc: 0.1060\n",
      "UAR:0.3974964896904095\n",
      "Epoch 80/100\n",
      "3342/3342 [==============================] - 1s 316us/step - loss: 0.1031 - acc: 0.1595 - val_loss: 1.5314 - val_acc: 0.1063\n",
      "UAR:0.3985648657587856\n",
      "UAR imporved. Saving model\n",
      "\n",
      "Epoch 81/100\n",
      "3342/3342 [==============================] - 1s 284us/step - loss: 0.1032 - acc: 0.1616 - val_loss: 1.5298 - val_acc: 0.1057\n",
      "UAR:0.3889758738328371\n",
      "Epoch 82/100\n",
      "3342/3342 [==============================] - 1s 282us/step - loss: 0.1034 - acc: 0.1658 - val_loss: 1.5291 - val_acc: 0.1067\n",
      "UAR:0.3972568500263662\n",
      "Epoch 83/100\n",
      "3342/3342 [==============================] - 1s 303us/step - loss: 0.1032 - acc: 0.1640 - val_loss: 1.5267 - val_acc: 0.1067\n",
      "UAR:0.38860216824051375\n",
      "Epoch 84/100\n",
      "3342/3342 [==============================] - 1s 281us/step - loss: 0.1033 - acc: 0.1631 - val_loss: 1.5275 - val_acc: 0.1070\n",
      "UAR:0.3903863110683801\n",
      "Epoch 85/100\n",
      "3342/3342 [==============================] - 1s 279us/step - loss: 0.1030 - acc: 0.1667 - val_loss: 1.5272 - val_acc: 0.1077\n",
      "UAR:0.3978564949083745\n",
      "Epoch 86/100\n",
      "3342/3342 [==============================] - 1s 277us/step - loss: 0.1033 - acc: 0.1652 - val_loss: 1.5253 - val_acc: 0.1080\n",
      "UAR:0.39098595595038843\n",
      "Epoch 87/100\n",
      "3342/3342 [==============================] - 1s 279us/step - loss: 0.1032 - acc: 0.1721 - val_loss: 1.5261 - val_acc: 0.1080\n",
      "UAR:0.39098595595038843\n",
      "Epoch 88/100\n",
      "3342/3342 [==============================] - 1s 314us/step - loss: 0.1028 - acc: 0.1682 - val_loss: 1.5271 - val_acc: 0.1077\n",
      "UAR:0.3978564949083745\n",
      "Epoch 89/100\n",
      "3342/3342 [==============================] - 1s 262us/step - loss: 0.1026 - acc: 0.1661 - val_loss: 1.5265 - val_acc: 0.1077\n",
      "UAR:0.3978564949083745\n",
      "Epoch 90/100\n",
      "3342/3342 [==============================] - 1s 261us/step - loss: 0.1028 - acc: 0.1610 - val_loss: 1.5270 - val_acc: 0.1077\n",
      "UAR:0.3992880284273551\n",
      "UAR imporved. Saving model\n",
      "\n",
      "Epoch 91/100\n",
      "3342/3342 [==============================] - 1s 259us/step - loss: 0.1027 - acc: 0.1679 - val_loss: 1.5275 - val_acc: 0.1067\n",
      "UAR:0.39751443374120754\n",
      "Epoch 92/100\n",
      "3342/3342 [==============================] - 1s 269us/step - loss: 0.1030 - acc: 0.1640 - val_loss: 1.5272 - val_acc: 0.1073\n",
      "UAR:0.3975038855994887\n",
      "Epoch 93/100\n",
      "3342/3342 [==============================] - 1s 266us/step - loss: 0.1025 - acc: 0.1688 - val_loss: 1.5242 - val_acc: 0.1093\n",
      "UAR:0.39382792670491207\n",
      "Epoch 94/100\n",
      "3342/3342 [==============================] - 1s 286us/step - loss: 0.1025 - acc: 0.1712 - val_loss: 1.5248 - val_acc: 0.1087\n",
      "UAR:0.39169117456815994\n",
      "Epoch 95/100\n",
      "3342/3342 [==============================] - 1s 266us/step - loss: 0.1028 - acc: 0.1640 - val_loss: 1.5228 - val_acc: 0.1083\n",
      "UAR:0.3911094737369497\n",
      "Epoch 96/100\n",
      "3342/3342 [==============================] - 1s 260us/step - loss: 0.1028 - acc: 0.1649 - val_loss: 1.5231 - val_acc: 0.1087\n",
      "UAR:0.39169117456815994\n",
      "Epoch 97/100\n",
      "3342/3342 [==============================] - 1s 324us/step - loss: 0.1027 - acc: 0.1700 - val_loss: 1.5235 - val_acc: 0.1090\n",
      "UAR:0.392759550636536\n",
      "Epoch 98/100\n"
     ]
    },
    {
     "name": "stdout",
     "output_type": "stream",
     "text": [
      "3342/3342 [==============================] - 1s 303us/step - loss: 0.1027 - acc: 0.1697 - val_loss: 1.5238 - val_acc: 0.1090\n",
      "UAR:0.39204378387704564\n",
      "Epoch 99/100\n",
      "3342/3342 [==============================] - 1s 317us/step - loss: 0.1028 - acc: 0.1706 - val_loss: 1.5233 - val_acc: 0.1093\n",
      "UAR:0.3928830684230973\n",
      "Epoch 100/100\n",
      "3342/3342 [==============================] - 1s 276us/step - loss: 0.1023 - acc: 0.1703 - val_loss: 1.5244 - val_acc: 0.1087\n",
      "UAR:0.3924069413276502\n"
     ]
    },
    {
     "data": {
      "text/plain": [
       "<keras.callbacks.History at 0x7f995868fa58>"
      ]
     },
     "execution_count": 61,
     "metadata": {},
     "output_type": "execute_result"
    }
   ],
   "source": [
    "model.fit(tr_X, tr_y, \n",
    "          epochs=100,\n",
    "          validation_data=(dv_X, dv_y),\n",
    "          class_weight=class_weights_rescaled, \n",
    "          callbacks=[uar, reduce_lr])"
   ]
  },
  {
   "cell_type": "code",
   "execution_count": 68,
   "metadata": {},
   "outputs": [],
   "source": [
    "model_best = load_model('1DCNNModel-v3x.h5')"
   ]
  },
  {
   "cell_type": "markdown",
   "metadata": {},
   "source": [
    "# Results"
   ]
  },
  {
   "cell_type": "code",
   "execution_count": 69,
   "metadata": {},
   "outputs": [],
   "source": [
    "def plot_confusion_matrix(cm,\n",
    "                          target_names,\n",
    "                          title='Confusion matrix',\n",
    "                          cmap=None,\n",
    "                          normalize=False):\n",
    "    \n",
    "    import itertools\n",
    "\n",
    "    accuracy = np.trace(cm) / float(np.sum(cm))\n",
    "    misclass = 1 - accuracy\n",
    "\n",
    "    if cmap is None:\n",
    "        cmap = plt.get_cmap('Blues')\n",
    "\n",
    "    plt.figure(figsize=(8, 6))\n",
    "    plt.imshow(cm, interpolation='nearest', cmap=cmap)\n",
    "    plt.title(title)\n",
    "    plt.colorbar()\n",
    "\n",
    "    if target_names is not None:\n",
    "        tick_marks = np.arange(len(target_names))\n",
    "        plt.xticks(tick_marks, target_names, rotation=45)\n",
    "        plt.yticks(tick_marks, target_names)\n",
    "\n",
    "    if normalize:\n",
    "        cm = cm.astype('float') / cm.sum(axis=1)[:, np.newaxis]\n",
    "\n",
    "\n",
    "    thresh = cm.max() / 1.5 if normalize else cm.max() / 2\n",
    "    for i, j in itertools.product(range(cm.shape[0]), range(cm.shape[1])):\n",
    "        if normalize:\n",
    "            plt.text(j, i, \"{:0.4f}\".format(cm[i, j]),\n",
    "                     horizontalalignment=\"center\",\n",
    "                     color=\"white\" if cm[i, j] > thresh else \"black\")\n",
    "        else:\n",
    "            plt.text(j, i, \"{:,}\".format(cm[i, j]),\n",
    "                     horizontalalignment=\"center\",\n",
    "                     color=\"white\" if cm[i, j] > thresh else \"black\")\n",
    "\n",
    "\n",
    "    plt.tight_layout()\n",
    "    plt.ylabel('True label')\n",
    "    plt.xlabel('Predicted label\\naccuracy={:0.4f}; misclass={:0.4f}'.format(accuracy, misclass))\n",
    "    plt.show()\n",
    "    \n",
    "    \n",
    "def reporting(y_test,y_pred):\n",
    "    cm = confusion_matrix(y_test, y_pred)\n",
    "    plot_confusion_matrix(cm, target_names=np.unique(y_test))\n",
    "#     print(confusion_matrix)\n",
    "    print(\"\\n\",classification_report(y_test,y_pred))\n",
    "    print(f'Accuracy: {accuracy_score(y_test,y_pred)}')\n",
    "    print(f'UAR: {recall_score(y_test,y_pred, average=\"macro\")}')"
   ]
  },
  {
   "cell_type": "markdown",
   "metadata": {},
   "source": [
    "## Validation Set"
   ]
  },
  {
   "cell_type": "code",
   "execution_count": 70,
   "metadata": {},
   "outputs": [],
   "source": [
    "y_pred = model_best.predict(dv_X)\n",
    "y_pred = y_pred.argmax(axis = 1)"
   ]
  },
  {
   "cell_type": "code",
   "execution_count": 71,
   "metadata": {
    "scrolled": true
   },
   "outputs": [
    {
     "data": {
      "image/png": "[encoded data removed]",
      "text/plain": [
       "<Figure size 576x432 with 2 Axes>"
      ]
     },
     "metadata": {
      "needs_background": "light"
     },
     "output_type": "display_data"
    },
    {
     "name": "stdout",
     "output_type": "stream",
     "text": [
      "\n",
      "               precision    recall  f1-score   support\n",
      "\n",
      "       angry       0.03      0.76      0.05        33\n",
      "       happy       0.18      0.20      0.19       709\n",
      "     neutral       0.73      0.00      0.01      2024\n",
      "         sad       0.11      0.64      0.19       234\n",
      "\n",
      "   micro avg       0.11      0.11      0.11      3000\n",
      "   macro avg       0.26      0.40      0.11      3000\n",
      "weighted avg       0.54      0.11      0.07      3000\n",
      "\n",
      "Accuracy: 0.10766666666666666\n",
      "UAR: 0.3992880284273551\n"
     ]
    }
   ],
   "source": [
    "reporting(le.inverse_transform(dv_y), le.inverse_transform(y_pred)) #on validation set"
   ]
  },
  {
   "cell_type": "markdown",
   "metadata": {},
   "source": [
    "## Test Set"
   ]
  },
  {
   "cell_type": "code",
   "execution_count": 72,
   "metadata": {},
   "outputs": [],
   "source": [
    "#test prediction \n",
    "y_pred_t = model_best.predict(test_X)\n",
    "y_pred_t = y_pred_t.argmax(axis = 1)"
   ]
  },
  {
   "cell_type": "code",
   "execution_count": 73,
   "metadata": {},
   "outputs": [
    {
     "data": {
      "image/png": "[encoded data removed]",
      "text/plain": [
       "<Figure size 576x432 with 2 Axes>"
      ]
     },
     "metadata": {
      "needs_background": "light"
     },
     "output_type": "display_data"
    },
    {
     "name": "stdout",
     "output_type": "stream",
     "text": [
      "\n",
      "               precision    recall  f1-score   support\n",
      "\n",
      "       angry       0.04      0.79      0.07        14\n",
      "       happy       0.14      0.17      0.15       217\n",
      "     neutral       0.60      0.00      0.01       691\n",
      "         sad       0.11      0.64      0.19        77\n",
      "\n",
      "   micro avg       0.10      0.10      0.10       999\n",
      "   macro avg       0.22      0.40      0.11       999\n",
      "weighted avg       0.45      0.10      0.06       999\n",
      "\n",
      "Accuracy: 0.1001001001001001\n",
      "UAR: 0.39923159213225035\n"
     ]
    }
   ],
   "source": [
    "reporting(le.inverse_transform(test_y), le.inverse_transform(y_pred_t))"
   ]
  },
  {
   "cell_type": "code",
   "execution_count": null,
   "metadata": {},
   "outputs": [],
   "source": []
  }
 ],
 "metadata": {
  "accelerator": "GPU",
  "colab": {
   "collapsed_sections": [],
   "name": "voice_mood_recog.ipynb",
   "provenance": [],
   "version": "0.3.2"
  },
  "kernelspec": {
   "display_name": "Python 3",
   "language": "python",
   "name": "python3"
  },
  "language_info": {
   "codemirror_mode": {
    "name": "ipython",
    "version": 3
   },
   "file_extension": ".py",
   "mimetype": "text/x-python",
   "name": "python",
   "nbconvert_exporter": "python",
   "pygments_lexer": "ipython3",
   "version": "3.6.8"
  },
  "toc": {
   "base_numbering": 1,
   "nav_menu": {},
   "number_sections": true,
   "sideBar": true,
   "skip_h1_title": false,
   "title_cell": "Table of Contents",
   "title_sidebar": "Contents",
   "toc_cell": false,
   "toc_position": {},
   "toc_section_display": true,
   "toc_window_display": false
  },
  "varInspector": {
   "cols": {
    "lenName": 16,
    "lenType": 16,
    "lenVar": 40
   },
   "kernels_config": {
    "python": {
     "delete_cmd_postfix": "",
     "delete_cmd_prefix": "del ",
     "library": "var_list.py",
     "varRefreshCmd": "print(var_dic_list())"
    },
    "r": {
     "delete_cmd_postfix": ") ",
     "delete_cmd_prefix": "rm(",
     "library": "var_list.r",
     "varRefreshCmd": "cat(var_dic_list()) "
    }
   },
   "types_to_exclude": [
    "module",
    "function",
    "builtin_function_or_method",
    "instance",
    "_Feature"
   ],
   "window_display": false
  }
 },
 "nbformat": 4,
 "nbformat_minor": 1
}
