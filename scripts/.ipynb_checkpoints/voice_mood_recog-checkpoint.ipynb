{
 "cells": [
  {
   "cell_type": "code",
   "execution_count": 1,
   "metadata": {
    "colab": {},
    "colab_type": "code",
    "id": "AAXzVICHpfwG"
   },
   "outputs": [
    {
     "name": "stderr",
     "output_type": "stream",
     "text": [
      "Using TensorFlow backend.\n"
     ]
    }
   ],
   "source": [
    "import pandas as pd\n",
    "import numpy as np\n",
    "import tensorflow as tf\n",
    "\n",
    "import keras\n",
    "from keras import layers\n",
    "from keras.layers import Conv1D, GRU, Dense, BatchNormalization, Dropout, MaxPool1D,Activation, regularizers\n",
    "from keras import Sequential\n",
    "from keras.preprocessing import text\n",
    "from keras.layers import regularizers\n",
    "from keras.optimizers import Adam, RMSprop\n",
    "\n",
    "import scipy.io.wavfile as wav\n",
    "\n",
    "from sklearn.preprocessing import LabelEncoder\n",
    "\n",
    "import shutil\n",
    "import os\n",
    "from pathlib import Path \n",
    "import re\n",
    "from collections import OrderedDict"
   ]
  },
  {
   "cell_type": "code",
   "execution_count": 2,
   "metadata": {
    "colab": {
     "base_uri": "https://localhost:8080/",
     "height": 35
    },
    "colab_type": "code",
    "id": "bMAXOFo7phzj",
    "outputId": "33f66c2f-4ff1-4152-a74b-6ff6a55bea3a"
   },
   "outputs": [],
   "source": [
    "# for google colab. Ignore\n",
    "# from google.colab import drive\n",
    "# drive.mount('/content/drive')"
   ]
  },
  {
   "cell_type": "code",
   "execution_count": 3,
   "metadata": {
    "colab": {
     "base_uri": "https://localhost:8080/",
     "height": 35
    },
    "colab_type": "code",
    "id": "Un1-Vk0kprFI",
    "outputId": "f6c30f00-2fe6-42b4-c253-a4411e131ef8"
   },
   "outputs": [
    {
     "data": {
      "text/plain": [
       "['wav',\n",
       " 'Schuller_SpeechAnalysis.pdf',\n",
       " 'readme.docx',\n",
       " 'ComParE2018_AtypicalAffect.txt']"
      ]
     },
     "execution_count": 3,
     "metadata": {},
     "output_type": "execute_result"
    }
   ],
   "source": [
    "path_data = Path('../data/')\n",
    "os.listdir(path_data)"
   ]
  },
  {
   "cell_type": "code",
   "execution_count": 5,
   "metadata": {
    "colab": {},
    "colab_type": "code",
    "id": "KIyMWO2aqPzY"
   },
   "outputs": [],
   "source": [
    "df_labs = pd.read_csv(path_data/'ComParE2018_AtypicalAffect.txt', sep='\\t')\n",
    "\n",
    "def fetch_data(directory='wav/', subset='train', length=50_000, pad_item=0):\n",
    "    print(subset)\n",
    "    sub = df_labs['file_name'].apply(lambda fn: subset in fn)\n",
    "    df_lab_sub = df_labs[sub]\n",
    "    y = df_lab_sub['emotion'].values\n",
    "    fn = df_lab_sub['file_name']\n",
    "\n",
    "    X = OrderedDict()\n",
    "    for f in fn:\n",
    "        wv = wav.read(f'{directory}/{f}')[1]\n",
    "        n = wv.shape[0]\n",
    "        if n < length:\n",
    "            padding = np.repeat(pad_item, length-n)\n",
    "            wv = np.hstack([padding, wv])\n",
    "        X[f] = wv[:length].reshape(1, -1, 1)\n",
    "\n",
    "    return np.vstack(X.values()), y\n",
    "\n",
    "\n",
    "def normalize_data(tr_X, val_X = None, ts_X=None):\n",
    "    m = tr_X.mean()\n",
    "    sd = tr_X.std()\n",
    "    return (tr_X-m)/sd #, (val_X-m)/sd, (ts_X-m)/sd, "
   ]
  },
  {
   "cell_type": "code",
   "execution_count": 6,
   "metadata": {
    "colab": {
     "base_uri": "https://localhost:8080/",
     "height": 60191
    },
    "colab_type": "code",
    "id": "bRIW4Tpmqc9o",
    "outputId": "5f77287e-2d7a-4745-adff-285afdae9868"
   },
   "outputs": [
    {
     "name": "stdout",
     "output_type": "stream",
     "text": [
      "train\n"
     ]
    }
   ],
   "source": [
    "length = 50_000\n",
    "(tr_X, tr_y) = fetch_data(directory=path_data/'wav', subset='train', length=length)\n",
    "# (dv_X, dv_y) = fetch_data(directory=path_data/'wav', subset='devel', length=length)\n",
    "# (ts_X, ts_y) = fetch_data(directory=path_data/'wav', subset='test', length=length)"
   ]
  },
  {
   "cell_type": "code",
   "execution_count": 8,
   "metadata": {
    "colab": {},
    "colab_type": "code",
    "id": "SU97UjlpHvjX"
   },
   "outputs": [],
   "source": [
    "tr_X = normalize_data(tr_X) #, dv_X, ts_X #, val_X, ts_X \n",
    "\n",
    "le = LabelEncoder()\n",
    "tr_y = le.fit_transform(tr_y)\n",
    "# val_y = le.transform(dv_y)\n",
    "# ts_y = le.transform(ts_y)"
   ]
  },
  {
   "cell_type": "code",
   "execution_count": 0,
   "metadata": {
    "colab": {},
    "colab_type": "code",
    "id": "57b6wB5Nq3aJ"
   },
   "outputs": [],
   "source": [
    "def conv_block(n, input_layer=False):\n",
    "    conv_layer = (Conv1D(n[0], n[1], strides=n[2], kernel_regularizer=regularizers.l2(0.01), input_shape=tr_X.shape[1:]) \n",
    "                if input_layer \n",
    "                else Conv1D(n[0], n[1], strides=n[2], kernel_regularizer=regularizers.l2(0.01)))\n",
    "      return Sequential([\n",
    "        conv_layer,\n",
    "    #       BatchNormalization(),\n",
    "        Activation(activation='relu'),\n",
    "        Dropout(0.5),\n",
    "        MaxPool1D(pool_size=2, strides=2)\n",
    "      ])\n",
    "\n",
    "\n",
    "def get_model(conv_activations=[(15, 20, 3), (32, 10, 2), (64, 5, 1)]):  \n",
    "    model = Sequential()\n",
    "\n",
    "    for i,n in enumerate(conv_activations):\n",
    "    model.add(conv_block(n, input_layer=(i==0)))\n",
    "\n",
    "    #   model.add(GRU(100))\n",
    "    model.add(layers.Flatten())\n",
    "\n",
    "    #   model.add(Dense(10, activation='relu', kernel_regularizer=regularizers.l2(0.01)))\n",
    "    model.add(Dense(4, activation='softmax'))\n",
    "\n",
    "    model.compile(optimizer=RMSprop(lr=.0001), loss='sparse_categorical_crossentropy', metrics=['acc'])\n",
    "\n",
    "    print(model.summary())\n",
    "\n",
    "    return model"
   ]
  },
  {
   "cell_type": "code",
   "execution_count": 29,
   "metadata": {
    "colab": {
     "base_uri": "https://localhost:8080/",
     "height": 737
    },
    "colab_type": "code",
    "id": "Irw5fhvhs88x",
    "outputId": "92e24c73-5bdc-4970-8a5c-7a01cab7f7af"
   },
   "outputs": [
    {
     "name": "stdout",
     "output_type": "stream",
     "text": [
      "_________________________________________________________________\n",
      "Layer (type)                 Output Shape              Param #   \n",
      "=================================================================\n",
      "sequential_14 (Sequential)   (None, 4997, 15)          465       \n",
      "_________________________________________________________________\n",
      "sequential_15 (Sequential)   (None, 830, 32)           7232      \n",
      "_________________________________________________________________\n",
      "sequential_16 (Sequential)   (None, 410, 64)           20544     \n",
      "_________________________________________________________________\n",
      "flatten_3 (Flatten)          (None, 26240)             0         \n",
      "_________________________________________________________________\n",
      "dense_3 (Dense)              (None, 4)                 104964    \n",
      "=================================================================\n",
      "Total params: 133,205\n",
      "Trainable params: 133,205\n",
      "Non-trainable params: 0\n",
      "_________________________________________________________________\n",
      "None\n",
      "Train on 2673 samples, validate on 669 samples\n",
      "Epoch 1/10\n",
      "2673/2673 [==============================] - 4s 1ms/step - loss: 1.6589 - acc: 0.6498 - val_loss: 1.7346 - val_acc: 0.6891\n",
      "Epoch 2/10\n",
      "2673/2673 [==============================] - 3s 1ms/step - loss: 1.5633 - acc: 0.6741 - val_loss: 1.7345 - val_acc: 0.6906\n",
      "Epoch 3/10\n",
      "2673/2673 [==============================] - 3s 1ms/step - loss: 1.5082 - acc: 0.6798 - val_loss: 1.6837 - val_acc: 0.6921\n",
      "Epoch 4/10\n",
      "2673/2673 [==============================] - 3s 1ms/step - loss: 1.4610 - acc: 0.6786 - val_loss: 1.5911 - val_acc: 0.6891\n",
      "Epoch 5/10\n",
      "2673/2673 [==============================] - 3s 1ms/step - loss: 1.4214 - acc: 0.6865 - val_loss: 1.5770 - val_acc: 0.6906\n",
      "Epoch 6/10\n",
      "2673/2673 [==============================] - 3s 1ms/step - loss: 1.3856 - acc: 0.6828 - val_loss: 1.5734 - val_acc: 0.6966\n",
      "Epoch 7/10\n",
      "2673/2673 [==============================] - 3s 1ms/step - loss: 1.3496 - acc: 0.6865 - val_loss: 1.5577 - val_acc: 0.6906\n",
      "Epoch 8/10\n",
      "2673/2673 [==============================] - 3s 1ms/step - loss: 1.3152 - acc: 0.6884 - val_loss: 1.5181 - val_acc: 0.6726\n",
      "Epoch 9/10\n",
      "2673/2673 [==============================] - 3s 1ms/step - loss: 1.2855 - acc: 0.6910 - val_loss: 1.5425 - val_acc: 0.6517\n",
      "Epoch 10/10\n",
      "2673/2673 [==============================] - 3s 1ms/step - loss: 1.2584 - acc: 0.6929 - val_loss: 1.4894 - val_acc: 0.6517\n"
     ]
    },
    {
     "data": {
      "text/plain": [
       "<keras.callbacks.History at 0x7f94e7f36128>"
      ]
     },
     "execution_count": 29,
     "metadata": {
      "tags": []
     },
     "output_type": "execute_result"
    }
   ],
   "source": [
    "model = get_model(conv_activations=[(15, 30, 5), (32, 15, 3), (64, 10, 1)]) #, (64, 3, 1), (64, 3, 1)\n",
    "model.fit(tr_X, tr_y, epochs=10, batch_size=50, validation_split=0.2)"
   ]
  },
  {
   "cell_type": "code",
   "execution_count": 30,
   "metadata": {
    "colab": {
     "base_uri": "https://localhost:8080/",
     "height": 413
    },
    "colab_type": "code",
    "id": "vbJS4zVozdLk",
    "outputId": "cf6fbe8e-413e-475f-db94-2513f0f30f1c"
   },
   "outputs": [
    {
     "name": "stdout",
     "output_type": "stream",
     "text": [
      "Train on 2673 samples, validate on 669 samples\n",
      "Epoch 1/10\n",
      "2673/2673 [==============================] - 3s 1ms/step - loss: 1.2417 - acc: 0.6958 - val_loss: 1.4883 - val_acc: 0.6368\n",
      "Epoch 2/10\n",
      "2673/2673 [==============================] - 3s 1ms/step - loss: 1.2191 - acc: 0.6992 - val_loss: 1.3796 - val_acc: 0.6891\n",
      "Epoch 3/10\n",
      "2673/2673 [==============================] - 3s 1ms/step - loss: 1.2091 - acc: 0.7007 - val_loss: 1.4572 - val_acc: 0.6293\n",
      "Epoch 4/10\n",
      "2673/2673 [==============================] - 3s 1ms/step - loss: 1.1913 - acc: 0.7030 - val_loss: 1.4669 - val_acc: 0.6114\n",
      "Epoch 5/10\n",
      "2673/2673 [==============================] - 3s 1ms/step - loss: 1.1770 - acc: 0.7000 - val_loss: 1.4015 - val_acc: 0.6442\n",
      "Epoch 6/10\n",
      "2673/2673 [==============================] - 3s 1ms/step - loss: 1.1482 - acc: 0.7048 - val_loss: 1.5641 - val_acc: 0.4873\n",
      "Epoch 7/10\n",
      "2673/2673 [==============================] - 3s 1ms/step - loss: 1.1423 - acc: 0.7003 - val_loss: 1.4862 - val_acc: 0.5456\n",
      "Epoch 8/10\n",
      "2673/2673 [==============================] - 3s 1ms/step - loss: 1.1257 - acc: 0.7011 - val_loss: 1.4706 - val_acc: 0.5561\n",
      "Epoch 9/10\n",
      "2673/2673 [==============================] - 3s 1ms/step - loss: 1.1103 - acc: 0.7101 - val_loss: 1.4324 - val_acc: 0.5949\n",
      "Epoch 10/10\n",
      "2673/2673 [==============================] - 3s 1ms/step - loss: 1.0952 - acc: 0.7160 - val_loss: 1.3883 - val_acc: 0.6069\n"
     ]
    },
    {
     "data": {
      "text/plain": [
       "<keras.callbacks.History at 0x7f94e8905278>"
      ]
     },
     "execution_count": 30,
     "metadata": {
      "tags": []
     },
     "output_type": "execute_result"
    }
   ],
   "source": [
    "model.fit(tr_X, tr_y, epochs=10, batch_size=50, validation_split=0.2)"
   ]
  },
  {
   "cell_type": "code",
   "execution_count": 9,
   "metadata": {
    "colab": {},
    "colab_type": "code",
    "id": "ZoZIqemcPHbW"
   },
   "outputs": [
    {
     "data": {
      "text/plain": [
       "neutral    5002\n",
       "happy      1669\n",
       "sad         498\n",
       "angry       172\n",
       "Name: emotion, dtype: int64"
      ]
     },
     "execution_count": 9,
     "metadata": {},
     "output_type": "execute_result"
    }
   ],
   "source": [
    "labs = df_labs.iloc[:,1]\n",
    "labs.value_counts()"
   ]
  },
  {
   "cell_type": "code",
   "execution_count": null,
   "metadata": {},
   "outputs": [],
   "source": []
  }
 ],
 "metadata": {
  "accelerator": "GPU",
  "colab": {
   "collapsed_sections": [],
   "name": "voice_mood_recog.ipynb",
   "provenance": [],
   "version": "0.3.2"
  },
  "kernelspec": {
   "display_name": "Python 3",
   "language": "python",
   "name": "python3"
  },
  "language_info": {
   "codemirror_mode": {
    "name": "ipython",
    "version": 3
   },
   "file_extension": ".py",
   "mimetype": "text/x-python",
   "name": "python",
   "nbconvert_exporter": "python",
   "pygments_lexer": "ipython3",
   "version": "3.6.8"
  },
  "toc": {
   "base_numbering": 1,
   "nav_menu": {},
   "number_sections": true,
   "sideBar": true,
   "skip_h1_title": false,
   "title_cell": "Table of Contents",
   "title_sidebar": "Contents",
   "toc_cell": false,
   "toc_position": {},
   "toc_section_display": true,
   "toc_window_display": false
  },
  "varInspector": {
   "cols": {
    "lenName": 16,
    "lenType": 16,
    "lenVar": 40
   },
   "kernels_config": {
    "python": {
     "delete_cmd_postfix": "",
     "delete_cmd_prefix": "del ",
     "library": "var_list.py",
     "varRefreshCmd": "print(var_dic_list())"
    },
    "r": {
     "delete_cmd_postfix": ") ",
     "delete_cmd_prefix": "rm(",
     "library": "var_list.r",
     "varRefreshCmd": "cat(var_dic_list()) "
    }
   },
   "types_to_exclude": [
    "module",
    "function",
    "builtin_function_or_method",
    "instance",
    "_Feature"
   ],
   "window_display": false
  }
 },
 "nbformat": 4,
 "nbformat_minor": 1
}
