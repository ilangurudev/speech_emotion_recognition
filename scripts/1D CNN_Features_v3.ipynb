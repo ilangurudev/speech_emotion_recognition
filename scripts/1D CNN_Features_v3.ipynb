{
 "cells": [
  {
   "cell_type": "markdown",
   "metadata": {},
   "source": [
    "# Libraries"
   ]
  },
  {
   "cell_type": "code",
   "execution_count": 1,
   "metadata": {
    "colab": {},
    "colab_type": "code",
    "id": "AAXzVICHpfwG"
   },
   "outputs": [
    {
     "name": "stderr",
     "output_type": "stream",
     "text": [
      "Using TensorFlow backend.\n"
     ]
    }
   ],
   "source": [
    "import pandas as pd\n",
    "import numpy as np\n",
    "import tensorflow as tf\n",
    "\n",
    "import keras\n",
    "from keras import layers\n",
    "from keras.layers import Conv1D, GRU, Dense, BatchNormalization, Dropout, MaxPool1D,Activation, regularizers\n",
    "from keras import Sequential\n",
    "from keras.preprocessing import text\n",
    "from keras.layers import regularizers\n",
    "from keras.optimizers import Adam, RMSprop\n",
    "from keras.callbacks import EarlyStopping\n",
    "from keras.utils import to_categorical\n",
    "from keras import callbacks\n",
    "from keras.callbacks import Callback\n",
    "from keras.models import load_model\n",
    "\n",
    "import scipy.io.wavfile as wav\n",
    "\n",
    "from sklearn.preprocessing import LabelEncoder\n",
    "\n",
    "import shutil\n",
    "import os\n",
    "from pathlib import Path \n",
    "import re\n",
    "from collections import OrderedDict\n",
    "\n",
    "from pyAudioAnalysis import audioBasicIO\n",
    "from pyAudioAnalysis import audioFeatureExtraction as aF\n",
    "\n",
    "\n",
    "from pandas_ml import ConfusionMatrix\n",
    "import matplotlib.pyplot as plt\n",
    "from sklearn.metrics import classification_report, confusion_matrix\n",
    "from sklearn.metrics import accuracy_score, recall_score\n",
    "\n",
    "import pickle"
   ]
  },
  {
   "cell_type": "markdown",
   "metadata": {},
   "source": [
    "# Data Processing and Saving"
   ]
  },
  {
   "cell_type": "code",
   "execution_count": 4,
   "metadata": {
    "colab": {
     "base_uri": "https://localhost:8080/",
     "height": 35
    },
    "colab_type": "code",
    "id": "Un1-Vk0kprFI",
    "outputId": "f6c30f00-2fe6-42b4-c253-a4411e131ef8"
   },
   "outputs": [
    {
     "data": {
      "text/plain": [
       "['wav',\n",
       " 'spectogram',\n",
       " 'Schuller_SpeechAnalysis.pdf',\n",
       " 'time_series_pitch.csv',\n",
       " 'X_devel_summary.csv',\n",
       " 'readme.docx',\n",
       " 'train_4-sec.csv',\n",
       " 'devel_4-sec.csv',\n",
       " 'X_train_summary.csv',\n",
       " 'y_train.npy',\n",
       " 'ComParE2018_AtypicalAffect.txt',\n",
       " 'X_test_summary.csv',\n",
       " 'test_4-sec.csv',\n",
       " 'X_train_zero_np.npy']"
      ]
     },
     "execution_count": 4,
     "metadata": {},
     "output_type": "execute_result"
    }
   ],
   "source": [
    "path_data = Path('../data/')\n",
    "os.listdir(path_data)"
   ]
  },
  {
   "cell_type": "code",
   "execution_count": 8,
   "metadata": {},
   "outputs": [],
   "source": [
    "df_labs = pd.read_csv(path_data/'ComParE2018_AtypicalAffect.txt', sep='\\t')\n",
    "\n",
    "def get_raw_data(file):\n",
    "    [fs,x]  = audioBasicIO.readAudioFile(path_data/'wav'/file)\n",
    "    [s,t] = aF.stFeatureExtraction(x,fs,0.050*fs,0.025*fs)\n",
    "    s = s.T\n",
    "    return s\n",
    "\n",
    "def fetch_data(directory='wav/', subset='train'):\n",
    "    sub = df_labs['file_name'].apply(lambda fn: subset in fn)\n",
    "    df_lab_sub = df_labs[sub]\n",
    "    y = df_lab_sub['emotion'].values\n",
    "    fn = df_lab_sub['file_name']\n",
    "    X = OrderedDict()\n",
    "    for f in fn:\n",
    "        X[f] = get_raw_data(f)\n",
    "        \n",
    "    return X.values(), y"
   ]
  },
  {
   "cell_type": "code",
   "execution_count": null,
   "metadata": {},
   "outputs": [],
   "source": [
    "(tr_X_raw, tr_y) = fetch_data(directory=path_data/'wav', subset='train')\n",
    "(dv_X_raw, dv_y) = fetch_data(directory=path_data/'wav', subset='devel')\n",
    "(test_X_raw, test_y) = fetch_data(directory=path_data/'wav', subset='test')"
   ]
  },
  {
   "cell_type": "code",
   "execution_count": 88,
   "metadata": {},
   "outputs": [],
   "source": [
    "with open(\"tr_X_raw.pkl\", \"wb\") as f:\n",
    "    pickle.dump(list(tr_X_raw), f)\n",
    "    \n",
    "with open(\"dv_X_raw.pkl\", \"wb\") as f:\n",
    "    pickle.dump(list(dv_X_raw), f)\n",
    "    \n",
    "with open(\"test_X_raw.pkl\", \"wb\") as f:\n",
    "    pickle.dump(list(test_X_raw), f)\n",
    "    \n",
    "    \n",
    "with open(\"tr_y.pkl\", \"wb\") as f:\n",
    "    pickle.dump(tr_y, f)\n",
    "    \n",
    "with open(\"dv_y.pkl\", \"wb\") as f:\n",
    "    pickle.dump(dv_y, f)\n",
    "    \n",
    "with open(\"test_y.pkl\", \"wb\") as f:\n",
    "    pickle.dump(test_y, f)"
   ]
  },
  {
   "cell_type": "markdown",
   "metadata": {},
   "source": [
    "# Resume from here"
   ]
  },
  {
   "cell_type": "code",
   "execution_count": 2,
   "metadata": {},
   "outputs": [],
   "source": [
    "with open(\"tr_X_raw.pkl\", \"rb\") as f:\n",
    "    tr_X_raw = pickle.load(f)\n",
    "    \n",
    "with open(\"dv_X_raw.pkl\", \"rb\") as f:\n",
    "    dv_X_raw = pickle.load(f)\n",
    "    \n",
    "with open(\"test_X_raw.pkl\", \"rb\") as f:\n",
    "    test_X_raw = pickle.load(f)\n",
    "    \n",
    "    \n",
    "with open(\"tr_y.pkl\", \"rb\") as f:\n",
    "    tr_y = pickle.load(f)\n",
    "    \n",
    "with open(\"dv_y.pkl\", \"rb\") as f:\n",
    "    dv_y = pickle.load(f)\n",
    "    \n",
    "with open(\"test_y.pkl\", \"rb\") as f:\n",
    "    test_y = pickle.load(f)"
   ]
  },
  {
   "cell_type": "code",
   "execution_count": 3,
   "metadata": {},
   "outputs": [],
   "source": [
    "def pad_data(X, pad_len=200, pad_zero=True):\n",
    "    arr = []\n",
    "    for x in X:\n",
    "        if pad_zero:\n",
    "            x = np.vstack([x, np.zeros((100, x.shape[1]))])[:100][np.newaxis, :, :]\n",
    "        else:\n",
    "            x = np.resize(x,(pad_len,x.shape[1]))[np.newaxis, :, :]\n",
    "        arr.append(x)\n",
    "    return np.vstack(arr)"
   ]
  },
  {
   "cell_type": "code",
   "execution_count": 4,
   "metadata": {},
   "outputs": [],
   "source": [
    "tr_X_pad = pad_data(tr_X_raw)\n",
    "dv_X_pad = pad_data(dv_X_raw)\n",
    "test_X_pad = pad_data(test_X_raw)"
   ]
  },
  {
   "cell_type": "code",
   "execution_count": 5,
   "metadata": {},
   "outputs": [],
   "source": [
    "m = np.mean(tr_X_pad.mean(axis=1),axis=0).reshape((1,34))\n",
    "std = np.mean(tr_X_pad.std(axis=1),axis=0).reshape((1,34))\n",
    "\n",
    "def normalize(mat):\n",
    "    mat = (mat - m)/std\n",
    "    return mat\n",
    "\n",
    "tr_X = normalize(tr_X_pad)\n",
    "dv_X = normalize(dv_X_pad)\n",
    "test_X = normalize(test_X_pad)"
   ]
  },
  {
   "cell_type": "code",
   "execution_count": 74,
   "metadata": {},
   "outputs": [],
   "source": [
    "# m = np.mean(tr_X_pad.mean(axis=1),axis=0)\n",
    "# std = np.mean(tr_X_pad.std(axis=1),axis=0)\n",
    "\n",
    "# def normalize(mat):\n",
    "#     global m\n",
    "#     global std\n",
    "#     m_temp = np.reshape(m,(1,34))\n",
    "#     std_temp = np.reshape(std,(1,34))\n",
    "    \n",
    "#     mat = (mat - m_temp)/std_temp\n",
    "#     return mat\n",
    "\n",
    "# for i in range(np.shape(tr_X_pad)[0]):\n",
    "#     tr_X[i] = normalize(tr_X_pad[i])\n",
    "    \n",
    "# for i in range(np.shape(dv_X_pad)[0]):\n",
    "#     dv_X[i] = normalize(dv_X_pad[i])\n",
    "    \n",
    "# for i in range(np.shape(test_X_pad)[0]):\n",
    "#     test_X[i] = normalize(test_X_pad[i]) \n",
    "    \n",
    "# # tr_X.reshape(-1, 34).mean(axis=0),dv_X.reshape(-1, 34).mean(axis=0),test_X.reshape(-1, 34).mean(axis=0)"
   ]
  },
  {
   "cell_type": "code",
   "execution_count": 6,
   "metadata": {
    "colab": {},
    "colab_type": "code",
    "id": "KIyMWO2aqPzY"
   },
   "outputs": [
    {
     "data": {
      "text/plain": [
       "array(['angry', 'happy', 'neutral', 'sad'], dtype=object)"
      ]
     },
     "execution_count": 6,
     "metadata": {},
     "output_type": "execute_result"
    }
   ],
   "source": [
    "le = LabelEncoder()\n",
    "tr_y = le.fit_transform(tr_y)\n",
    "dv_y = le.transform(dv_y)\n",
    "test_y = le.transform(test_y)\n",
    "le.inverse_transform([0,1,2,3])"
   ]
  },
  {
   "cell_type": "code",
   "execution_count": 7,
   "metadata": {},
   "outputs": [
    {
     "data": {
      "text/plain": [
       "array([ 1.46130302,  4.49798116, 17.87165775, 26.736     ])"
      ]
     },
     "execution_count": 7,
     "metadata": {},
     "output_type": "execute_result"
    }
   ],
   "source": [
    "from collections import Counter\n",
    "c = Counter(tr_y)\n",
    "len(tr_y)/np.asarray(list(c.values())) #class weights based on number of samples"
   ]
  },
  {
   "cell_type": "code",
   "execution_count": 8,
   "metadata": {},
   "outputs": [
    {
     "data": {
      "text/plain": [
       "{0: 0.4990020177233622,\n",
       " 1: 0.09456107492929176,\n",
       " 2: 0.030720978913264353,\n",
       " 3: 0.37571592843408175}"
      ]
     },
     "execution_count": 8,
     "metadata": {},
     "output_type": "execute_result"
    }
   ],
   "source": [
    "class_weight = {0: 23.736,\n",
    "                1: 4.49798116,\n",
    "                2: 1.46130302,\n",
    "                3: 17.87165775}\n",
    "\n",
    "# same weights but add up to zero (so loss is easier to interpret)\n",
    "class_weights_rescaled = {i:k/sum(class_weight.values()) for i,k in enumerate(class_weight.values())}\n",
    "class_weights_rescaled"
   ]
  },
  {
   "cell_type": "code",
   "execution_count": 9,
   "metadata": {},
   "outputs": [
    {
     "name": "stdout",
     "output_type": "stream",
     "text": [
      "WARNING:tensorflow:From /home/gurudev/anaconda3/lib/python3.6/site-packages/tensorflow/python/framework/op_def_library.py:263: colocate_with (from tensorflow.python.framework.ops) is deprecated and will be removed in a future version.\n",
      "Instructions for updating:\n",
      "Colocations handled automatically by placer.\n",
      "WARNING:tensorflow:From /home/gurudev/anaconda3/lib/python3.6/site-packages/keras/backend/tensorflow_backend.py:3445: calling dropout (from tensorflow.python.ops.nn_ops) with keep_prob is deprecated and will be removed in a future version.\n",
      "Instructions for updating:\n",
      "Please use `rate` instead of `keep_prob`. Rate should be set to `rate = 1 - keep_prob`.\n",
      "_________________________________________________________________\n",
      "Layer (type)                 Output Shape              Param #   \n",
      "=================================================================\n",
      "conv1d_1 (Conv1D)            (None, 91, 15)            5115      \n",
      "_________________________________________________________________\n",
      "max_pooling1d_1 (MaxPooling1 (None, 45, 15)            0         \n",
      "_________________________________________________________________\n",
      "dropout_1 (Dropout)          (None, 45, 15)            0         \n",
      "_________________________________________________________________\n",
      "conv1d_2 (Conv1D)            (None, 39, 32)            3392      \n",
      "_________________________________________________________________\n",
      "max_pooling1d_2 (MaxPooling1 (None, 19, 32)            0         \n",
      "_________________________________________________________________\n",
      "dropout_2 (Dropout)          (None, 19, 32)            0         \n",
      "_________________________________________________________________\n",
      "conv1d_3 (Conv1D)            (None, 15, 32)            5152      \n",
      "_________________________________________________________________\n",
      "max_pooling1d_3 (MaxPooling1 (None, 7, 32)             0         \n",
      "_________________________________________________________________\n",
      "dropout_3 (Dropout)          (None, 7, 32)             0         \n",
      "_________________________________________________________________\n",
      "flatten_1 (Flatten)          (None, 224)               0         \n",
      "_________________________________________________________________\n",
      "dense_1 (Dense)              (None, 4)                 900       \n",
      "_________________________________________________________________\n",
      "dense_2 (Dense)              (None, 4)                 20        \n",
      "=================================================================\n",
      "Total params: 14,579\n",
      "Trainable params: 14,579\n",
      "Non-trainable params: 0\n",
      "_________________________________________________________________\n"
     ]
    }
   ],
   "source": [
    "keras.backend.clear_session()\n",
    "model = Sequential()\n",
    "model.add(Conv1D(filters=15, kernel_size=10, activation='relu', input_shape=tr_X.shape[1:]))\n",
    "model.add(MaxPool1D(pool_size=2))\n",
    "model.add(Dropout(0.1))\n",
    "\n",
    "model.add(Conv1D(filters=32, kernel_size=7, activation='relu'))\n",
    "model.add(MaxPool1D(pool_size=2))\n",
    "model.add(Dropout(0.1))\n",
    "\n",
    "model.add(Conv1D(filters=32, kernel_size=5, activation='relu'))\n",
    "model.add(MaxPool1D(pool_size=2))\n",
    "model.add(Dropout(0.1))\n",
    "\n",
    "model.add(layers.Flatten())\n",
    "model.add(Dense(4, activation='sigmoid'))\n",
    "# model.add(Dropout(0.1))\n",
    "model.add(Dense(4, activation='softmax'))\n",
    "model.compile(optimizer=RMSprop(lr=.0001), \n",
    "              loss='sparse_categorical_crossentropy', \n",
    "              metrics=['acc'])\n",
    "model.summary()"
   ]
  },
  {
   "cell_type": "code",
   "execution_count": 10,
   "metadata": {},
   "outputs": [],
   "source": [
    "class UAR(Callback):\n",
    "    def on_train_begin(self, logs={}):\n",
    "        self.val_recalls = []\n",
    "        self.max_recall = 0\n",
    "\n",
    "    def on_epoch_end(self, epoch, logs={}):\n",
    "        val_predict = np.argmax(((self.model.predict(self.validation_data[0]))),\n",
    "                                axis=1)\n",
    "        val_targ = self.validation_data[1]\n",
    "        _val_recall = recall_score(val_targ, val_predict, average=\"macro\")\n",
    "        self.val_recalls.append(_val_recall)\n",
    "        print('UAR:'+str(_val_recall))\n",
    "        if _val_recall > self.max_recall:\n",
    "            self.max_recall = _val_recall\n",
    "            self.model.save(\"1DCNNModel-v3x.h5\")\n",
    "            print('UAR imporved. Saving model\\n')\n",
    "        return _val_recall\n",
    "\n",
    "uar = UAR()\n",
    "\n",
    "reduce_lr = callbacks.ReduceLROnPlateau(monitor='val_loss', factor=0.2,\n",
    "                                        patience=5, min_lr=.00001)"
   ]
  },
  {
   "cell_type": "code",
   "execution_count": 11,
   "metadata": {
    "scrolled": false
   },
   "outputs": [
    {
     "name": "stdout",
     "output_type": "stream",
     "text": [
      "WARNING:tensorflow:From /home/gurudev/anaconda3/lib/python3.6/site-packages/tensorflow/python/ops/math_ops.py:3066: to_int32 (from tensorflow.python.ops.math_ops) is deprecated and will be removed in a future version.\n",
      "Instructions for updating:\n",
      "Use tf.cast instead.\n",
      "Train on 3342 samples, validate on 3000 samples\n",
      "Epoch 1/100\n",
      "3342/3342 [==============================] - 2s 728us/step - loss: 0.1157 - acc: 0.0637 - val_loss: 1.5631 - val_acc: 0.0733\n",
      "UAR:0.29224311576215667\n",
      "UAR imporved. Saving model\n",
      "\n",
      "Epoch 2/100\n",
      "3342/3342 [==============================] - 2s 669us/step - loss: 0.1123 - acc: 0.0730 - val_loss: 1.5147 - val_acc: 0.0710\n",
      "UAR:0.3607057610936313\n",
      "UAR imporved. Saving model\n",
      "\n",
      "Epoch 3/100\n",
      "3342/3342 [==============================] - 3s 784us/step - loss: 0.1114 - acc: 0.0715 - val_loss: 1.4867 - val_acc: 0.0687\n",
      "UAR:0.36123152431332967\n",
      "UAR imporved. Saving model\n",
      "\n",
      "Epoch 4/100\n",
      "3342/3342 [==============================] - 3s 749us/step - loss: 0.1101 - acc: 0.0718 - val_loss: 1.4782 - val_acc: 0.0650\n",
      "UAR:0.3509109210801735\n",
      "Epoch 5/100\n",
      "3342/3342 [==============================] - 3s 768us/step - loss: 0.1086 - acc: 0.0805 - val_loss: 1.4741 - val_acc: 0.0680\n",
      "UAR:0.3620233198865075\n",
      "UAR imporved. Saving model\n",
      "\n",
      "Epoch 6/100\n",
      "3342/3342 [==============================] - 3s 771us/step - loss: 0.1072 - acc: 0.0799 - val_loss: 1.4615 - val_acc: 0.0703\n",
      "UAR:0.35648718935037693\n",
      "Epoch 7/100\n",
      "3342/3342 [==============================] - 2s 717us/step - loss: 0.1068 - acc: 0.0847 - val_loss: 1.4589 - val_acc: 0.0727\n",
      "UAR:0.3603869880315579\n",
      "Epoch 8/100\n",
      "3342/3342 [==============================] - 3s 776us/step - loss: 0.1060 - acc: 0.0850 - val_loss: 1.4619 - val_acc: 0.0737\n",
      "UAR:0.3578659821607636\n",
      "Epoch 9/100\n",
      "3342/3342 [==============================] - 3s 798us/step - loss: 0.1055 - acc: 0.0922 - val_loss: 1.4614 - val_acc: 0.0783\n",
      "UAR:0.36280251248516415\n",
      "UAR imporved. Saving model\n",
      "\n",
      "Epoch 10/100\n",
      "3342/3342 [==============================] - 3s 780us/step - loss: 0.1049 - acc: 0.0987 - val_loss: 1.4563 - val_acc: 0.0850\n",
      "UAR:0.36835768447192985\n",
      "UAR imporved. Saving model\n",
      "\n",
      "Epoch 11/100\n",
      "3342/3342 [==============================] - 3s 792us/step - loss: 0.1045 - acc: 0.1008 - val_loss: 1.4574 - val_acc: 0.0877\n",
      "UAR:0.37602531540909234\n",
      "UAR imporved. Saving model\n",
      "\n",
      "Epoch 12/100\n",
      "3342/3342 [==============================] - 3s 783us/step - loss: 0.1037 - acc: 0.1053 - val_loss: 1.4559 - val_acc: 0.0903\n",
      "UAR:0.3817092569181396\n",
      "UAR imporved. Saving model\n",
      "\n",
      "Epoch 13/100\n",
      "3342/3342 [==============================] - 3s 865us/step - loss: 0.1035 - acc: 0.1077 - val_loss: 1.4595 - val_acc: 0.0907\n",
      "UAR:0.3816036831823764\n",
      "Epoch 14/100\n",
      "3342/3342 [==============================] - 3s 779us/step - loss: 0.1033 - acc: 0.1104 - val_loss: 1.4610 - val_acc: 0.0937\n",
      "UAR:0.3994525550184163\n",
      "UAR imporved. Saving model\n",
      "\n",
      "Epoch 15/100\n",
      "3342/3342 [==============================] - 2s 742us/step - loss: 0.1026 - acc: 0.1113 - val_loss: 1.4476 - val_acc: 0.0937\n",
      "UAR:0.38139043620776925\n",
      "Epoch 16/100\n",
      "3342/3342 [==============================] - 3s 783us/step - loss: 0.1024 - acc: 0.1104 - val_loss: 1.4462 - val_acc: 0.1003\n",
      "UAR:0.3856935241175905\n",
      "Epoch 17/100\n",
      "3342/3342 [==============================] - 3s 783us/step - loss: 0.1018 - acc: 0.1191 - val_loss: 1.4473 - val_acc: 0.0997\n",
      "UAR:0.38960597044357087\n",
      "Epoch 18/100\n",
      "3342/3342 [==============================] - 3s 791us/step - loss: 0.1016 - acc: 0.1212 - val_loss: 1.4498 - val_acc: 0.0960\n",
      "UAR:0.3878745683242985\n",
      "Epoch 19/100\n",
      "3342/3342 [==============================] - 3s 780us/step - loss: 0.1012 - acc: 0.1188 - val_loss: 1.4365 - val_acc: 0.0917\n",
      "UAR:0.3460790904430906\n",
      "Epoch 20/100\n",
      "3342/3342 [==============================] - 3s 792us/step - loss: 0.1006 - acc: 0.1284 - val_loss: 1.4402 - val_acc: 0.0993\n",
      "UAR:0.3565728386530036\n",
      "Epoch 21/100\n",
      "3342/3342 [==============================] - 3s 784us/step - loss: 0.1005 - acc: 0.1308 - val_loss: 1.4494 - val_acc: 0.1027\n",
      "UAR:0.3931298568206798\n",
      "Epoch 22/100\n",
      "3342/3342 [==============================] - 3s 782us/step - loss: 0.1006 - acc: 0.1367 - val_loss: 1.4470 - val_acc: 0.0987\n",
      "UAR:0.37891895627453975\n",
      "Epoch 23/100\n",
      "3342/3342 [==============================] - 3s 783us/step - loss: 0.0999 - acc: 0.1290 - val_loss: 1.4438 - val_acc: 0.1003\n",
      "UAR:0.35370761850762766\n",
      "Epoch 24/100\n",
      "3342/3342 [==============================] - 3s 784us/step - loss: 0.0996 - acc: 0.1358 - val_loss: 1.4499 - val_acc: 0.1063\n",
      "UAR:0.37841012309032174\n",
      "Epoch 25/100\n",
      "3342/3342 [==============================] - 3s 783us/step - loss: 0.0989 - acc: 0.1346 - val_loss: 1.4478 - val_acc: 0.1030\n",
      "UAR:0.3840465369122541\n",
      "Epoch 26/100\n",
      "3342/3342 [==============================] - 3s 789us/step - loss: 0.0986 - acc: 0.1433 - val_loss: 1.4478 - val_acc: 0.1010\n",
      "UAR:0.37493682431439224\n",
      "Epoch 27/100\n",
      "3342/3342 [==============================] - 3s 793us/step - loss: 0.0986 - acc: 0.1397 - val_loss: 1.4495 - val_acc: 0.1043\n",
      "UAR:0.3747119764685074\n",
      "Epoch 28/100\n",
      "3342/3342 [==============================] - 3s 792us/step - loss: 0.0989 - acc: 0.1436 - val_loss: 1.4508 - val_acc: 0.1013\n",
      "UAR:0.3827416734124743\n",
      "Epoch 29/100\n",
      "3342/3342 [==============================] - 3s 805us/step - loss: 0.0990 - acc: 0.1403 - val_loss: 1.4533 - val_acc: 0.1027\n",
      "UAR:0.38085935275792393\n",
      "Epoch 30/100\n",
      "3342/3342 [==============================] - 3s 825us/step - loss: 0.0988 - acc: 0.1427 - val_loss: 1.4526 - val_acc: 0.1020\n",
      "UAR:0.3827596174632723\n",
      "Epoch 31/100\n",
      "3342/3342 [==============================] - 3s 788us/step - loss: 0.0987 - acc: 0.1493 - val_loss: 1.4509 - val_acc: 0.1007\n",
      "UAR:0.374355123483182\n",
      "Epoch 32/100\n",
      "3342/3342 [==============================] - 3s 794us/step - loss: 0.0989 - acc: 0.1376 - val_loss: 1.4525 - val_acc: 0.1013\n",
      "UAR:0.3806228653265202\n",
      "Epoch 33/100\n",
      "3342/3342 [==============================] - 3s 799us/step - loss: 0.0984 - acc: 0.1403 - val_loss: 1.4536 - val_acc: 0.1017\n",
      "UAR:0.38074638311308145\n",
      "Epoch 34/100\n",
      "3342/3342 [==============================] - 3s 791us/step - loss: 0.0984 - acc: 0.1454 - val_loss: 1.4526 - val_acc: 0.1023\n",
      "UAR:0.3812225102085285\n",
      "Epoch 35/100\n",
      "3342/3342 [==============================] - 3s 794us/step - loss: 0.0986 - acc: 0.1370 - val_loss: 1.4529 - val_acc: 0.1010\n",
      "UAR:0.3812151142994492\n",
      "Epoch 36/100\n",
      "3342/3342 [==============================] - 3s 800us/step - loss: 0.0982 - acc: 0.1379 - val_loss: 1.4517 - val_acc: 0.1030\n",
      "UAR:0.3833592623452806\n",
      "Epoch 37/100\n",
      "3342/3342 [==============================] - 3s 791us/step - loss: 0.0986 - acc: 0.1421 - val_loss: 1.4515 - val_acc: 0.1020\n",
      "UAR:0.374849194629427\n",
      "Epoch 38/100\n",
      "3342/3342 [==============================] - 3s 794us/step - loss: 0.0985 - acc: 0.1451 - val_loss: 1.4516 - val_acc: 0.1030\n",
      "UAR:0.374733072751945\n",
      "Epoch 39/100\n",
      "3342/3342 [==============================] - 3s 800us/step - loss: 0.0981 - acc: 0.1433 - val_loss: 1.4516 - val_acc: 0.1020\n",
      "UAR:0.37367524482528774\n",
      "Epoch 40/100\n",
      "3342/3342 [==============================] - 3s 801us/step - loss: 0.0984 - acc: 0.1439 - val_loss: 1.4511 - val_acc: 0.1030\n",
      "UAR:0.381011362737002\n",
      "Epoch 41/100\n",
      "3342/3342 [==============================] - 3s 791us/step - loss: 0.0980 - acc: 0.1445 - val_loss: 1.4519 - val_acc: 0.1027\n",
      "UAR:0.37438046344305925\n",
      "Epoch 42/100\n",
      "3342/3342 [==============================] - 3s 792us/step - loss: 0.0984 - acc: 0.1451 - val_loss: 1.4506 - val_acc: 0.1020\n",
      "UAR:0.37367524482528774\n",
      "Epoch 43/100\n",
      "3342/3342 [==============================] - 3s 795us/step - loss: 0.0986 - acc: 0.1475 - val_loss: 1.4520 - val_acc: 0.1023\n",
      "UAR:0.3656307560631624\n",
      "Epoch 44/100\n",
      "3342/3342 [==============================] - 3s 795us/step - loss: 0.0986 - acc: 0.1436 - val_loss: 1.4519 - val_acc: 0.1023\n",
      "UAR:0.3656307560631624\n",
      "Epoch 45/100\n",
      "3342/3342 [==============================] - 3s 799us/step - loss: 0.0984 - acc: 0.1439 - val_loss: 1.4523 - val_acc: 0.1037\n",
      "UAR:0.37380615852092824\n",
      "Epoch 46/100\n",
      "3342/3342 [==============================] - 3s 796us/step - loss: 0.0980 - acc: 0.1424 - val_loss: 1.4523 - val_acc: 0.1030\n",
      "UAR:0.3661068831586094\n",
      "Epoch 47/100\n",
      "3342/3342 [==============================] - 3s 805us/step - loss: 0.0982 - acc: 0.1445 - val_loss: 1.4527 - val_acc: 0.1040\n",
      "UAR:0.37298481802567474\n",
      "Epoch 48/100\n"
     ]
    },
    {
     "name": "stdout",
     "output_type": "stream",
     "text": [
      "3342/3342 [==============================] - 3s 753us/step - loss: 0.0982 - acc: 0.1517 - val_loss: 1.4524 - val_acc: 0.1050\n",
      "UAR:0.3745293211894978\n",
      "Epoch 49/100\n",
      "3342/3342 [==============================] - 3s 773us/step - loss: 0.0981 - acc: 0.1508 - val_loss: 1.4530 - val_acc: 0.1033\n",
      "UAR:0.373224457689718\n",
      "Epoch 50/100\n",
      "3342/3342 [==============================] - 3s 784us/step - loss: 0.0981 - acc: 0.1508 - val_loss: 1.4534 - val_acc: 0.1027\n",
      "UAR:0.36575427384972364\n",
      "Epoch 51/100\n",
      "3342/3342 [==============================] - 3s 762us/step - loss: 0.0982 - acc: 0.1448 - val_loss: 1.4531 - val_acc: 0.1040\n",
      "UAR:0.3727557265033502\n",
      "Epoch 52/100\n",
      "3342/3342 [==============================] - 3s 766us/step - loss: 0.0982 - acc: 0.1448 - val_loss: 1.4516 - val_acc: 0.1043\n",
      "UAR:0.372650152767587\n",
      "Epoch 53/100\n",
      "3342/3342 [==============================] - 3s 756us/step - loss: 0.0982 - acc: 0.1451 - val_loss: 1.4520 - val_acc: 0.1053\n",
      "UAR:0.36579755786039897\n",
      "Epoch 54/100\n",
      "3342/3342 [==============================] - 3s 806us/step - loss: 0.0977 - acc: 0.1526 - val_loss: 1.4522 - val_acc: 0.1057\n",
      "UAR:0.36637925869160926\n",
      "Epoch 55/100\n",
      "3342/3342 [==============================] - 3s 776us/step - loss: 0.0978 - acc: 0.1472 - val_loss: 1.4521 - val_acc: 0.1060\n",
      "UAR:0.366273684955846\n",
      "Epoch 56/100\n",
      "3342/3342 [==============================] - 3s 851us/step - loss: 0.0979 - acc: 0.1472 - val_loss: 1.4514 - val_acc: 0.1077\n",
      "UAR:0.3673494569333013\n",
      "Epoch 57/100\n",
      "3342/3342 [==============================] - 3s 782us/step - loss: 0.0978 - acc: 0.1496 - val_loss: 1.4531 - val_acc: 0.1060\n",
      "UAR:0.3648421514368654\n",
      "Epoch 58/100\n",
      "3342/3342 [==============================] - 3s 779us/step - loss: 0.0977 - acc: 0.1535 - val_loss: 1.4519 - val_acc: 0.1070\n",
      "UAR:0.3649836132742247\n",
      "Epoch 59/100\n",
      "3342/3342 [==============================] - 3s 779us/step - loss: 0.0974 - acc: 0.1511 - val_loss: 1.4512 - val_acc: 0.1090\n",
      "UAR:0.3680726196018709\n",
      "Epoch 60/100\n",
      "3342/3342 [==============================] - 3s 824us/step - loss: 0.0979 - acc: 0.1499 - val_loss: 1.4494 - val_acc: 0.1057\n",
      "UAR:0.3666083502139337\n",
      "Epoch 61/100\n",
      "3342/3342 [==============================] - 3s 782us/step - loss: 0.0973 - acc: 0.1520 - val_loss: 1.4513 - val_acc: 0.1087\n",
      "UAR:0.3667751520111703\n",
      "Epoch 62/100\n",
      "3342/3342 [==============================] - 3s 780us/step - loss: 0.0977 - acc: 0.1466 - val_loss: 1.4514 - val_acc: 0.1083\n",
      "UAR:0.36736740098409937\n",
      "Epoch 63/100\n",
      "3342/3342 [==============================] - 3s 791us/step - loss: 0.0979 - acc: 0.1442 - val_loss: 1.4527 - val_acc: 0.1093\n",
      "UAR:0.3681961373884321\n",
      "Epoch 64/100\n",
      "3342/3342 [==============================] - 3s 787us/step - loss: 0.0974 - acc: 0.1532 - val_loss: 1.4534 - val_acc: 0.1087\n",
      "UAR:0.3679491018153096\n",
      "Epoch 65/100\n",
      "3342/3342 [==============================] - 3s 792us/step - loss: 0.0977 - acc: 0.1484 - val_loss: 1.4537 - val_acc: 0.1087\n",
      "UAR:0.36605938525167997\n",
      "Epoch 66/100\n",
      "3342/3342 [==============================] - 3s 789us/step - loss: 0.0975 - acc: 0.1496 - val_loss: 1.4535 - val_acc: 0.1090\n",
      "UAR:0.36758594436470504\n",
      "Epoch 67/100\n",
      "3342/3342 [==============================] - 3s 784us/step - loss: 0.0974 - acc: 0.1520 - val_loss: 1.4535 - val_acc: 0.1097\n",
      "UAR:0.36711721317833723\n",
      "Epoch 68/100\n",
      "3342/3342 [==============================] - 3s 796us/step - loss: 0.0972 - acc: 0.1544 - val_loss: 1.4529 - val_acc: 0.1090\n",
      "UAR:0.3683017111241953\n",
      "Epoch 69/100\n",
      "3342/3342 [==============================] - 3s 788us/step - loss: 0.0977 - acc: 0.1505 - val_loss: 1.4506 - val_acc: 0.1100\n",
      "UAR:0.36984621428801845\n",
      "Epoch 70/100\n",
      "3342/3342 [==============================] - 3s 787us/step - loss: 0.0970 - acc: 0.1616 - val_loss: 1.4512 - val_acc: 0.1097\n",
      "UAR:0.36949360497913264\n",
      "Epoch 71/100\n",
      "3342/3342 [==============================] - 3s 788us/step - loss: 0.0972 - acc: 0.1508 - val_loss: 1.4505 - val_acc: 0.1100\n",
      "UAR:0.3696171227656939\n",
      "Epoch 72/100\n",
      "3342/3342 [==============================] - 3s 787us/step - loss: 0.0971 - acc: 0.1514 - val_loss: 1.4494 - val_acc: 0.1093\n",
      "UAR:0.36914099567024694\n",
      "Epoch 73/100\n",
      "3342/3342 [==============================] - 3s 787us/step - loss: 0.0970 - acc: 0.1529 - val_loss: 1.4490 - val_acc: 0.1090\n",
      "UAR:0.36901747788368566\n",
      "Epoch 74/100\n",
      "3342/3342 [==============================] - 2s 658us/step - loss: 0.0972 - acc: 0.1631 - val_loss: 1.4493 - val_acc: 0.1100\n",
      "UAR:0.3696171227656939\n",
      "Epoch 75/100\n",
      "3342/3342 [==============================] - 3s 792us/step - loss: 0.0973 - acc: 0.1523 - val_loss: 1.4492 - val_acc: 0.1093\n",
      "UAR:0.36914099567024694\n",
      "Epoch 76/100\n",
      "3342/3342 [==============================] - 3s 789us/step - loss: 0.0971 - acc: 0.1580 - val_loss: 1.4483 - val_acc: 0.1087\n",
      "UAR:0.36843577705247543\n",
      "Epoch 77/100\n",
      "3342/3342 [==============================] - 3s 799us/step - loss: 0.0972 - acc: 0.1493 - val_loss: 1.4498 - val_acc: 0.1127\n",
      "UAR:0.3705767728656672\n",
      "Epoch 78/100\n",
      "3342/3342 [==============================] - 3s 804us/step - loss: 0.0968 - acc: 0.1622 - val_loss: 1.4495 - val_acc: 0.1127\n",
      "UAR:0.36894464001687893\n",
      "Epoch 79/100\n",
      "3342/3342 [==============================] - 3s 837us/step - loss: 0.0970 - acc: 0.1613 - val_loss: 1.4486 - val_acc: 0.1123\n",
      "UAR:0.3688211222303177\n",
      "Epoch 80/100\n",
      "3342/3342 [==============================] - 2s 644us/step - loss: 0.0970 - acc: 0.1592 - val_loss: 1.4480 - val_acc: 0.1133\n",
      "UAR:0.36919167559000143\n",
      "Epoch 81/100\n",
      "3342/3342 [==============================] - 3s 813us/step - loss: 0.0971 - acc: 0.1646 - val_loss: 1.4475 - val_acc: 0.1093\n",
      "UAR:0.36773795434378315\n",
      "Epoch 82/100\n",
      "3342/3342 [==============================] - 3s 795us/step - loss: 0.0966 - acc: 0.1562 - val_loss: 1.4472 - val_acc: 0.1103\n",
      "UAR:0.3685666907481159\n",
      "Epoch 83/100\n",
      "3342/3342 [==============================] - 3s 787us/step - loss: 0.0970 - acc: 0.1625 - val_loss: 1.4467 - val_acc: 0.1097\n",
      "UAR:0.3680905636526689\n",
      "Epoch 84/100\n",
      "3342/3342 [==============================] - 3s 790us/step - loss: 0.0970 - acc: 0.1676 - val_loss: 1.4471 - val_acc: 0.1103\n",
      "UAR:0.3687957822704404\n",
      "Epoch 85/100\n",
      "3342/3342 [==============================] - 3s 797us/step - loss: 0.0969 - acc: 0.1583 - val_loss: 1.4467 - val_acc: 0.1110\n",
      "UAR:0.36881372632123843\n",
      "Epoch 86/100\n",
      "3342/3342 [==============================] - 2s 721us/step - loss: 0.0969 - acc: 0.1619 - val_loss: 1.4474 - val_acc: 0.1113\n",
      "UAR:0.3689372441077997\n",
      "Epoch 87/100\n",
      "3342/3342 [==============================] - 3s 791us/step - loss: 0.0967 - acc: 0.1604 - val_loss: 1.4499 - val_acc: 0.1140\n",
      "UAR:0.36989689420777294\n",
      "Epoch 88/100\n",
      "3342/3342 [==============================] - 3s 811us/step - loss: 0.0965 - acc: 0.1685 - val_loss: 1.4481 - val_acc: 0.1127\n",
      "UAR:0.36894464001687893\n",
      "Epoch 89/100\n",
      "3342/3342 [==============================] - 3s 792us/step - loss: 0.0968 - acc: 0.1622 - val_loss: 1.4488 - val_acc: 0.1130\n",
      "UAR:0.3702421076075795\n",
      "Epoch 90/100\n",
      "3342/3342 [==============================] - 3s 783us/step - loss: 0.0963 - acc: 0.1703 - val_loss: 1.4480 - val_acc: 0.1147\n",
      "UAR:0.3701439297808955\n",
      "Epoch 91/100\n",
      "3342/3342 [==============================] - 3s 789us/step - loss: 0.0967 - acc: 0.1694 - val_loss: 1.4462 - val_acc: 0.1133\n",
      "UAR:0.368962584067677\n",
      "Epoch 92/100\n",
      "3342/3342 [==============================] - 3s 798us/step - loss: 0.0970 - acc: 0.1649 - val_loss: 1.4461 - val_acc: 0.1157\n",
      "UAR:0.3709726661852283\n",
      "Epoch 93/100\n",
      "3342/3342 [==============================] - 3s 791us/step - loss: 0.0965 - acc: 0.1649 - val_loss: 1.4455 - val_acc: 0.1153\n",
      "UAR:0.3696751985945277\n",
      "Epoch 94/100\n",
      "3342/3342 [==============================] - 3s 787us/step - loss: 0.0966 - acc: 0.1700 - val_loss: 1.4452 - val_acc: 0.1143\n",
      "UAR:0.36907555371251943\n",
      "Epoch 95/100\n",
      "3342/3342 [==============================] - 3s 795us/step - loss: 0.0965 - acc: 0.1658 - val_loss: 1.4467 - val_acc: 0.1183\n",
      "UAR:0.3712450417182281\n",
      "Epoch 96/100\n",
      "3342/3342 [==============================] - 3s 807us/step - loss: 0.0964 - acc: 0.1631 - val_loss: 1.4450 - val_acc: 0.1147\n",
      "UAR:0.36965725454372966\n",
      "Epoch 97/100\n",
      "3342/3342 [==============================] - 2s 700us/step - loss: 0.0964 - acc: 0.1703 - val_loss: 1.4455 - val_acc: 0.1187\n",
      "UAR:0.37159765102711384\n",
      "Epoch 98/100\n",
      "3342/3342 [==============================] - 2s 692us/step - loss: 0.0965 - acc: 0.1673 - val_loss: 1.4457 - val_acc: 0.1197\n"
     ]
    },
    {
     "name": "stdout",
     "output_type": "stream",
     "text": [
      "UAR:0.3724263874314466\n",
      "Epoch 99/100\n",
      "3342/3342 [==============================] - 3s 826us/step - loss: 0.0962 - acc: 0.1735 - val_loss: 1.4441 - val_acc: 0.1190\n",
      "UAR:0.3719502603359996\n",
      "Epoch 100/100\n",
      "3342/3342 [==============================] - 3s 749us/step - loss: 0.0965 - acc: 0.1771 - val_loss: 1.4428 - val_acc: 0.1150\n",
      "UAR:0.3620994410187701\n"
     ]
    },
    {
     "data": {
      "text/plain": [
       "<keras.callbacks.History at 0x7fef593277b8>"
      ]
     },
     "execution_count": 11,
     "metadata": {},
     "output_type": "execute_result"
    }
   ],
   "source": [
    "model.fit(tr_X, tr_y, \n",
    "          epochs=100,\n",
    "          validation_data=(dv_X, dv_y),\n",
    "          class_weight=class_weights_rescaled, \n",
    "          callbacks=[uar, reduce_lr])"
   ]
  },
  {
   "cell_type": "code",
   "execution_count": 13,
   "metadata": {},
   "outputs": [],
   "source": [
    "model_best = load_model('1DCNNModel-v3x.h5')"
   ]
  },
  {
   "cell_type": "markdown",
   "metadata": {},
   "source": [
    "# Results"
   ]
  },
  {
   "cell_type": "code",
   "execution_count": 14,
   "metadata": {},
   "outputs": [],
   "source": [
    "def plot_confusion_matrix(cm,\n",
    "                          target_names,\n",
    "                          title='Confusion matrix',\n",
    "                          cmap=None,\n",
    "                          normalize=False):\n",
    "    \n",
    "    import itertools\n",
    "\n",
    "    accuracy = np.trace(cm) / float(np.sum(cm))\n",
    "    misclass = 1 - accuracy\n",
    "\n",
    "    if cmap is None:\n",
    "        cmap = plt.get_cmap('Blues')\n",
    "\n",
    "    plt.figure(figsize=(8, 6))\n",
    "    plt.imshow(cm, interpolation='nearest', cmap=cmap)\n",
    "    plt.title(title)\n",
    "    plt.colorbar()\n",
    "\n",
    "    if target_names is not None:\n",
    "        tick_marks = np.arange(len(target_names))\n",
    "        plt.xticks(tick_marks, target_names, rotation=45)\n",
    "        plt.yticks(tick_marks, target_names)\n",
    "\n",
    "    if normalize:\n",
    "        cm = cm.astype('float') / cm.sum(axis=1)[:, np.newaxis]\n",
    "\n",
    "\n",
    "    thresh = cm.max() / 1.5 if normalize else cm.max() / 2\n",
    "    for i, j in itertools.product(range(cm.shape[0]), range(cm.shape[1])):\n",
    "        if normalize:\n",
    "            plt.text(j, i, \"{:0.4f}\".format(cm[i, j]),\n",
    "                     horizontalalignment=\"center\",\n",
    "                     color=\"white\" if cm[i, j] > thresh else \"black\")\n",
    "        else:\n",
    "            plt.text(j, i, \"{:,}\".format(cm[i, j]),\n",
    "                     horizontalalignment=\"center\",\n",
    "                     color=\"white\" if cm[i, j] > thresh else \"black\")\n",
    "\n",
    "\n",
    "    plt.tight_layout()\n",
    "    plt.ylabel('True label')\n",
    "    plt.xlabel('Predicted label\\naccuracy={:0.4f}; misclass={:0.4f}'.format(accuracy, misclass))\n",
    "    plt.show()\n",
    "    \n",
    "    \n",
    "def reporting(y_test,y_pred):\n",
    "    cm = confusion_matrix(y_test, y_pred)\n",
    "    plot_confusion_matrix(cm, target_names=np.unique(y_test))\n",
    "#     print(confusion_matrix)\n",
    "    print(\"\\n\",classification_report(y_test,y_pred))\n",
    "    print(f'Accuracy: {accuracy_score(y_test,y_pred)}')\n",
    "    print(f'UAR: {recall_score(y_test,y_pred, average=\"macro\")}')"
   ]
  },
  {
   "cell_type": "markdown",
   "metadata": {},
   "source": [
    "## Validation Set"
   ]
  },
  {
   "cell_type": "code",
   "execution_count": 15,
   "metadata": {},
   "outputs": [],
   "source": [
    "y_pred = model_best.predict(dv_X)\n",
    "y_pred = y_pred.argmax(axis = 1)"
   ]
  },
  {
   "cell_type": "code",
   "execution_count": 16,
   "metadata": {
    "scrolled": true
   },
   "outputs": [
    {
     "data": {
      "image/png": "[encoded data removed]",
      "text/plain": [
       "<Figure size 576x432 with 2 Axes>"
      ]
     },
     "metadata": {
      "needs_background": "light"
     },
     "output_type": "display_data"
    },
    {
     "name": "stdout",
     "output_type": "stream",
     "text": [
      "\n",
      "               precision    recall  f1-score   support\n",
      "\n",
      "       angry       0.03      0.76      0.05        33\n",
      "       happy       0.19      0.12      0.15       709\n",
      "     neutral       1.00      0.00      0.00      2024\n",
      "         sad       0.10      0.72      0.18       234\n",
      "\n",
      "   micro avg       0.09      0.09      0.09      3000\n",
      "   macro avg       0.33      0.40      0.10      3000\n",
      "weighted avg       0.73      0.09      0.05      3000\n",
      "\n",
      "Accuracy: 0.09366666666666666\n",
      "UAR: 0.3994525550184163\n"
     ]
    }
   ],
   "source": [
    "reporting(le.inverse_transform(dv_y), le.inverse_transform(y_pred)) #on validation set"
   ]
  },
  {
   "cell_type": "markdown",
   "metadata": {},
   "source": [
    "## Test Set"
   ]
  },
  {
   "cell_type": "code",
   "execution_count": 17,
   "metadata": {},
   "outputs": [],
   "source": [
    "#test prediction \n",
    "y_pred_t = model_best.predict(test_X)\n",
    "y_pred_t = y_pred_t.argmax(axis = 1)"
   ]
  },
  {
   "cell_type": "code",
   "execution_count": null,
   "metadata": {},
   "outputs": [
    {
     "data": {
      "image/png": "[encoded data removed]",
      "text/plain": [
       "<Figure size 576x432 with 2 Axes>"
      ]
     },
     "metadata": {
      "needs_background": "light"
     },
     "output_type": "display_data"
    },
    {
     "name": "stdout",
     "output_type": "stream",
     "text": [
      "\n",
      "               precision    recall  f1-score   support\n",
      "\n",
      "       angry       0.03      0.71      0.06        14\n",
      "       happy       0.15      0.12      0.13       217\n",
      "     neutral       1.00      0.00      0.00       691\n",
      "         sad       0.10      0.69      0.17        77\n",
      "\n",
      "   micro avg       0.09      0.09      0.09       999\n",
      "   macro avg       0.32      0.38      0.09       999\n",
      "weighted avg       0.73      0.09      0.04       999\n",
      "\n",
      "Accuracy: 0.0890890890890891\n",
      "UAR: 0.37981298846804656\n"
     ]
    }
   ],
   "source": [
    "reporting(le.inverse_transform(test_y), le.inverse_transform(y_pred_t))"
   ]
  },
  {
   "cell_type": "code",
   "execution_count": null,
   "metadata": {},
   "outputs": [],
   "source": []
  }
 ],
 "metadata": {
  "accelerator": "GPU",
  "colab": {
   "collapsed_sections": [],
   "name": "voice_mood_recog.ipynb",
   "provenance": [],
   "version": "0.3.2"
  },
  "kernelspec": {
   "display_name": "Python 3",
   "language": "python",
   "name": "python3"
  },
  "language_info": {
   "codemirror_mode": {
    "name": "ipython",
    "version": 3
   },
   "file_extension": ".py",
   "mimetype": "text/x-python",
   "name": "python",
   "nbconvert_exporter": "python",
   "pygments_lexer": "ipython3",
   "version": "3.6.8"
  },
  "toc": {
   "base_numbering": 1,
   "nav_menu": {},
   "number_sections": true,
   "sideBar": true,
   "skip_h1_title": false,
   "title_cell": "Table of Contents",
   "title_sidebar": "Contents",
   "toc_cell": false,
   "toc_position": {},
   "toc_section_display": true,
   "toc_window_display": false
  },
  "varInspector": {
   "cols": {
    "lenName": 16,
    "lenType": 16,
    "lenVar": 40
   },
   "kernels_config": {
    "python": {
     "delete_cmd_postfix": "",
     "delete_cmd_prefix": "del ",
     "library": "var_list.py",
     "varRefreshCmd": "print(var_dic_list())"
    },
    "r": {
     "delete_cmd_postfix": ") ",
     "delete_cmd_prefix": "rm(",
     "library": "var_list.r",
     "varRefreshCmd": "cat(var_dic_list()) "
    }
   },
   "types_to_exclude": [
    "module",
    "function",
    "builtin_function_or_method",
    "instance",
    "_Feature"
   ],
   "window_display": true
  }
 },
 "nbformat": 4,
 "nbformat_minor": 1
}
