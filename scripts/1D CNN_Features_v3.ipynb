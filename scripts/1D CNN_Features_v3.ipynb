{
 "cells": [
  {
   "cell_type": "markdown",
   "metadata": {},
   "source": [
    "# Libraries"
   ]
  },
  {
   "cell_type": "code",
   "execution_count": 130,
   "metadata": {
    "colab": {},
    "colab_type": "code",
    "id": "AAXzVICHpfwG"
   },
   "outputs": [],
   "source": [
    "import pandas as pd\n",
    "import numpy as np\n",
    "import tensorflow as tf\n",
    "\n",
    "import keras\n",
    "from keras import layers\n",
    "from keras.layers import Conv1D, GRU, Dense, BatchNormalization, Dropout, MaxPool1D,Activation, regularizers\n",
    "from keras import Sequential\n",
    "from keras.preprocessing import text\n",
    "from keras.layers import regularizers\n",
    "from keras.optimizers import Adam, RMSprop\n",
    "from keras.callbacks import EarlyStopping\n",
    "from keras.utils import to_categorical\n",
    "from keras import callbacks\n",
    "from keras.callbacks import Callback\n",
    "from keras.models import load_model\n",
    "\n",
    "import scipy.io.wavfile as wav\n",
    "\n",
    "from sklearn.preprocessing import LabelEncoder\n",
    "\n",
    "import shutil\n",
    "import os\n",
    "from pathlib import Path \n",
    "import re\n",
    "from collections import OrderedDict\n",
    "\n",
    "from pyAudioAnalysis import audioBasicIO\n",
    "from pyAudioAnalysis import audioFeatureExtraction as aF\n",
    "\n",
    "\n",
    "from pandas_ml import ConfusionMatrix\n",
    "import matplotlib.pyplot as plt\n",
    "from sklearn.metrics import classification_report \n",
    "from sklearn.metrics import accuracy_score, recall_score\n",
    "\n",
    "import pickle"
   ]
  },
  {
   "cell_type": "markdown",
   "metadata": {},
   "source": [
    "# Data Processing and Saving"
   ]
  },
  {
   "cell_type": "code",
   "execution_count": 4,
   "metadata": {
    "colab": {
     "base_uri": "https://localhost:8080/",
     "height": 35
    },
    "colab_type": "code",
    "id": "Un1-Vk0kprFI",
    "outputId": "f6c30f00-2fe6-42b4-c253-a4411e131ef8"
   },
   "outputs": [
    {
     "data": {
      "text/plain": [
       "['wav',\n",
       " 'spectogram',\n",
       " 'Schuller_SpeechAnalysis.pdf',\n",
       " 'time_series_pitch.csv',\n",
       " 'X_devel_summary.csv',\n",
       " 'readme.docx',\n",
       " 'train_4-sec.csv',\n",
       " 'devel_4-sec.csv',\n",
       " 'X_train_summary.csv',\n",
       " 'y_train.npy',\n",
       " 'ComParE2018_AtypicalAffect.txt',\n",
       " 'X_test_summary.csv',\n",
       " 'test_4-sec.csv',\n",
       " 'X_train_zero_np.npy']"
      ]
     },
     "execution_count": 4,
     "metadata": {},
     "output_type": "execute_result"
    }
   ],
   "source": [
    "path_data = Path('../data/')\n",
    "os.listdir(path_data)"
   ]
  },
  {
   "cell_type": "code",
   "execution_count": 8,
   "metadata": {},
   "outputs": [],
   "source": [
    "df_labs = pd.read_csv(path_data/'ComParE2018_AtypicalAffect.txt', sep='\\t')\n",
    "\n",
    "def get_raw_data(file):\n",
    "    [fs,x]  = audioBasicIO.readAudioFile(path_data/'wav'/file)\n",
    "    [s,t] = aF.stFeatureExtraction(x,fs,0.050*fs,0.025*fs)\n",
    "    s = s.T\n",
    "    return s\n",
    "\n",
    "def fetch_data(directory='wav/', subset='train'):\n",
    "    sub = df_labs['file_name'].apply(lambda fn: subset in fn)\n",
    "    df_lab_sub = df_labs[sub]\n",
    "    y = df_lab_sub['emotion'].values\n",
    "    fn = df_lab_sub['file_name']\n",
    "    X = OrderedDict()\n",
    "    for f in fn:\n",
    "        X[f] = get_raw_data(f)\n",
    "        \n",
    "    return X.values(), y\n",
    "\n",
    "#     x = np.resize(x,(fs*4,))\n",
    "#     x = np.pad(x, fs*4, mode='constant')[:fs*4]"
   ]
  },
  {
   "cell_type": "code",
   "execution_count": null,
   "metadata": {},
   "outputs": [],
   "source": [
    "(tr_X_raw, tr_y) = fetch_data(directory=path_data/'wav', subset='train')\n"
   ]
  },
  {
   "cell_type": "code",
   "execution_count": 13,
   "metadata": {},
   "outputs": [],
   "source": [
    "(dv_X_raw, dv_y) = fetch_data(directory=path_data/'wav', subset='devel')\n"
   ]
  },
  {
   "cell_type": "code",
   "execution_count": 14,
   "metadata": {},
   "outputs": [],
   "source": [
    "(test_X_raw, test_y) = fetch_data(directory=path_data/'wav', subset='test')\n"
   ]
  },
  {
   "cell_type": "code",
   "execution_count": 88,
   "metadata": {},
   "outputs": [],
   "source": [
    "with open(\"tr_X_raw.pkl\", \"wb\") as f:\n",
    "    pickle.dump(list(tr_X_raw), f)\n",
    "    \n",
    "with open(\"dv_X_raw.pkl\", \"wb\") as f:\n",
    "    pickle.dump(list(dv_X_raw), f)\n",
    "    \n",
    "with open(\"test_X_raw.pkl\", \"wb\") as f:\n",
    "    pickle.dump(list(test_X_raw), f)\n",
    "    \n",
    "    \n",
    "with open(\"tr_y.pkl\", \"wb\") as f:\n",
    "    pickle.dump(tr_y, f)\n",
    "    \n",
    "with open(\"dv_y.pkl\", \"wb\") as f:\n",
    "    pickle.dump(dv_y, f)\n",
    "    \n",
    "with open(\"test_y.pkl\", \"wb\") as f:\n",
    "    pickle.dump(test_y, f)"
   ]
  },
  {
   "cell_type": "markdown",
   "metadata": {},
   "source": [
    "# Resume from here"
   ]
  },
  {
   "cell_type": "code",
   "execution_count": 89,
   "metadata": {},
   "outputs": [],
   "source": [
    "with open(\"tr_X_raw.pkl\", \"rb\") as f:\n",
    "    tr_X_raw = pickle.load(f)\n",
    "    \n",
    "with open(\"dv_X_raw.pkl\", \"rb\") as f:\n",
    "    dv_X_raw = pickle.load(f)\n",
    "    \n",
    "with open(\"test_X_raw.pkl\", \"rb\") as f:\n",
    "    test_X_raw = pickle.load(f)\n",
    "    \n",
    "    \n",
    "with open(\"tr_y.pkl\", \"rb\") as f:\n",
    "    tr_y = pickle.load(f)\n",
    "    \n",
    "with open(\"dv_y.pkl\", \"rb\") as f:\n",
    "    dv_y = pickle.load(f)\n",
    "    \n",
    "with open(\"test_y.pkl\", \"rb\") as f:\n",
    "    test_y = pickle.load(f)"
   ]
  },
  {
   "cell_type": "code",
   "execution_count": 53,
   "metadata": {},
   "outputs": [],
   "source": [
    "def pad_data(X, pad_len=100, pad_zero=True):\n",
    "    arr = []\n",
    "    for x in X:\n",
    "        if pad_zero:\n",
    "            x = np.vstack([x, np.zeros((100, x.shape[1]))])[:100][np.newaxis, :, :]\n",
    "        else:\n",
    "            x = np.resize(x,(pad_len,x.shape[1]))[np.newaxis, :, :]\n",
    "        arr.append(x)\n",
    "    return np.vstack(arr)"
   ]
  },
  {
   "cell_type": "code",
   "execution_count": 55,
   "metadata": {},
   "outputs": [],
   "source": [
    "tr_X_pad = pad_data(tr_X_raw)\n",
    "dv_X_pad = pad_data(dv_X_raw)\n",
    "test_X_pad = pad_data(test_X_raw)"
   ]
  },
  {
   "cell_type": "code",
   "execution_count": 64,
   "metadata": {},
   "outputs": [],
   "source": [
    "m = np.mean(tr_X_pad.mean(axis=1),axis=0).reshape((1,34))\n",
    "std = np.mean(tr_X_pad.std(axis=1),axis=0).reshape((1,34))"
   ]
  },
  {
   "cell_type": "code",
   "execution_count": 65,
   "metadata": {},
   "outputs": [],
   "source": [
    "def normalize(mat):\n",
    "    mat = (mat - m)/std\n",
    "    return mat"
   ]
  },
  {
   "cell_type": "code",
   "execution_count": 70,
   "metadata": {},
   "outputs": [],
   "source": [
    "tr_X = normalize(tr_X_pad)\n",
    "dv_X = normalize(dv_X_pad)\n",
    "test_X = normalize(test_X_pad)"
   ]
  },
  {
   "cell_type": "code",
   "execution_count": 90,
   "metadata": {
    "colab": {},
    "colab_type": "code",
    "id": "KIyMWO2aqPzY"
   },
   "outputs": [],
   "source": [
    "le = LabelEncoder()\n",
    "tr_y = le.fit_transform(tr_y)\n",
    "dv_y = le.transform(dv_y)\n",
    "test_y = le.transform(test_y)"
   ]
  },
  {
   "cell_type": "code",
   "execution_count": 91,
   "metadata": {},
   "outputs": [
    {
     "data": {
      "text/plain": [
       "array([ 1.46130302,  4.49798116, 17.87165775, 26.736     ])"
      ]
     },
     "execution_count": 91,
     "metadata": {},
     "output_type": "execute_result"
    }
   ],
   "source": [
    "from collections import Counter\n",
    "c = Counter(tr_y)\n",
    "len(tr_y)/np.asarray(list(c.values())) #class weights based on number of samples"
   ]
  },
  {
   "cell_type": "code",
   "execution_count": 136,
   "metadata": {},
   "outputs": [
    {
     "data": {
      "text/plain": [
       "{0: 0.4990020177233622,\n",
       " 1: 0.09456107492929176,\n",
       " 2: 0.030720978913264353,\n",
       " 3: 0.37571592843408175}"
      ]
     },
     "execution_count": 136,
     "metadata": {},
     "output_type": "execute_result"
    }
   ],
   "source": [
    "class_weight = {0: 23.736,\n",
    "                1: 4.49798116,\n",
    "                2: 1.46130302,\n",
    "                3: 17.87165775}\n",
    "\n",
    "# same weights but add up to zero (so loss is easier to interpret)\n",
    "class_weights_rescaled = {i:k/sum(class_weight.values()) for i,k in enumerate(class_weight.values())}\n",
    "class_weights_rescaled"
   ]
  },
  {
   "cell_type": "code",
   "execution_count": 137,
   "metadata": {},
   "outputs": [
    {
     "name": "stdout",
     "output_type": "stream",
     "text": [
      "_________________________________________________________________\n",
      "Layer (type)                 Output Shape              Param #   \n",
      "=================================================================\n",
      "conv1d_1 (Conv1D)            (None, 91, 15)            5115      \n",
      "_________________________________________________________________\n",
      "max_pooling1d_1 (MaxPooling1 (None, 45, 15)            0         \n",
      "_________________________________________________________________\n",
      "dropout_1 (Dropout)          (None, 45, 15)            0         \n",
      "_________________________________________________________________\n",
      "conv1d_2 (Conv1D)            (None, 39, 32)            3392      \n",
      "_________________________________________________________________\n",
      "max_pooling1d_2 (MaxPooling1 (None, 19, 32)            0         \n",
      "_________________________________________________________________\n",
      "dropout_2 (Dropout)          (None, 19, 32)            0         \n",
      "_________________________________________________________________\n",
      "conv1d_3 (Conv1D)            (None, 15, 32)            5152      \n",
      "_________________________________________________________________\n",
      "max_pooling1d_3 (MaxPooling1 (None, 7, 32)             0         \n",
      "_________________________________________________________________\n",
      "dropout_3 (Dropout)          (None, 7, 32)             0         \n",
      "_________________________________________________________________\n",
      "flatten_1 (Flatten)          (None, 224)               0         \n",
      "_________________________________________________________________\n",
      "dense_1 (Dense)              (None, 4)                 900       \n",
      "_________________________________________________________________\n",
      "dense_2 (Dense)              (None, 4)                 20        \n",
      "=================================================================\n",
      "Total params: 14,579\n",
      "Trainable params: 14,579\n",
      "Non-trainable params: 0\n",
      "_________________________________________________________________\n"
     ]
    }
   ],
   "source": [
    "keras.backend.clear_session()\n",
    "model = Sequential()\n",
    "model.add(Conv1D(filters=15, kernel_size=10, activation='relu', input_shape=tr_X.shape[1:]))\n",
    "model.add(MaxPool1D(pool_size=2))\n",
    "model.add(Dropout(0.1))\n",
    "\n",
    "model.add(Conv1D(filters=32, kernel_size=7, activation='relu'))\n",
    "model.add(MaxPool1D(pool_size=2))\n",
    "model.add(Dropout(0.1))\n",
    "\n",
    "model.add(Conv1D(filters=32, kernel_size=5, activation='relu'))\n",
    "model.add(MaxPool1D(pool_size=2))\n",
    "model.add(Dropout(0.1))\n",
    "\n",
    "model.add(layers.Flatten())\n",
    "model.add(Dense(4, activation='sigmoid'))\n",
    "# model.add(Dropout(0.1))\n",
    "model.add(Dense(4, activation='softmax'))\n",
    "model.compile(optimizer=RMSprop(lr=.0001), \n",
    "              loss='sparse_categorical_crossentropy', \n",
    "              metrics=['acc'])\n",
    "model.summary()"
   ]
  },
  {
   "cell_type": "code",
   "execution_count": 138,
   "metadata": {},
   "outputs": [],
   "source": [
    "class UAR(Callback):\n",
    "    def on_train_begin(self, logs={}):\n",
    "        self.val_recalls = []\n",
    "        self.max_recall = 0\n",
    "\n",
    "    def on_epoch_end(self, epoch, logs={}):\n",
    "        val_predict = np.argmax(((self.model.predict(self.validation_data[0]))),\n",
    "                                axis=1)\n",
    "        val_targ = self.validation_data[1]\n",
    "        _val_recall = recall_score(val_targ, val_predict, average=\"macro\")\n",
    "        self.val_recalls.append(_val_recall)\n",
    "        print('UAR:'+str(_val_recall))\n",
    "        if _val_recall > self.max_recall:\n",
    "            self.max_recall = _val_recall\n",
    "            self.model.save(\"1DCNNModel-v3.h5\")\n",
    "            print('UAR imporved. Saving model\\n')\n",
    "        return _val_recall\n",
    "\n",
    "uar = UAR()\n",
    "\n",
    "reduce_lr = callbacks.ReduceLROnPlateau(monitor='val_loss', factor=0.2,\n",
    "                                        patience=5, min_lr=.00001)"
   ]
  },
  {
   "cell_type": "code",
   "execution_count": 139,
   "metadata": {
    "scrolled": false
   },
   "outputs": [
    {
     "name": "stdout",
     "output_type": "stream",
     "text": [
      "Train on 3342 samples, validate on 3000 samples\n",
      "Epoch 1/100\n",
      "3342/3342 [==============================] - 1s 345us/step - loss: 0.1162 - acc: 0.1056 - val_loss: 1.4768 - val_acc: 0.0830\n",
      "UAR:0.24932329144285664\n",
      "UAR imporved. Saving model\n",
      "\n",
      "Epoch 2/100\n",
      "3342/3342 [==============================] - 1s 264us/step - loss: 0.1131 - acc: 0.1840 - val_loss: 1.4264 - val_acc: 0.1097\n",
      "UAR:0.2769437687915949\n",
      "UAR imporved. Saving model\n",
      "\n",
      "Epoch 3/100\n",
      "3342/3342 [==============================] - 1s 273us/step - loss: 0.1120 - acc: 0.2145 - val_loss: 1.3997 - val_acc: 0.1480\n",
      "UAR:0.25640181074963686\n",
      "Epoch 4/100\n",
      "3342/3342 [==============================] - 1s 268us/step - loss: 0.1115 - acc: 0.2104 - val_loss: 1.3961 - val_acc: 0.1500\n",
      "UAR:0.2670032262423567\n",
      "Epoch 5/100\n",
      "3342/3342 [==============================] - 1s 290us/step - loss: 0.1105 - acc: 0.2244 - val_loss: 1.4259 - val_acc: 0.1180\n",
      "UAR:0.2839029931421236\n",
      "UAR imporved. Saving model\n",
      "\n",
      "Epoch 6/100\n",
      "3342/3342 [==============================] - 1s 284us/step - loss: 0.1094 - acc: 0.2220 - val_loss: 1.4288 - val_acc: 0.1407\n",
      "UAR:0.2810863683035143\n",
      "Epoch 7/100\n",
      "3342/3342 [==============================] - 1s 282us/step - loss: 0.1089 - acc: 0.2684 - val_loss: 1.4352 - val_acc: 0.1510\n",
      "UAR:0.2825833586703152\n",
      "Epoch 8/100\n",
      "3342/3342 [==============================] - 1s 282us/step - loss: 0.1082 - acc: 0.2864 - val_loss: 1.4444 - val_acc: 0.1600\n",
      "UAR:0.2978816171750954\n",
      "UAR imporved. Saving model\n",
      "\n",
      "Epoch 9/100\n",
      "3342/3342 [==============================] - 1s 283us/step - loss: 0.1074 - acc: 0.2780 - val_loss: 1.4437 - val_acc: 0.1860\n",
      "UAR:0.3019534813013074\n",
      "UAR imporved. Saving model\n",
      "\n",
      "Epoch 10/100\n",
      "3342/3342 [==============================] - 1s 287us/step - loss: 0.1073 - acc: 0.2992 - val_loss: 1.4479 - val_acc: 0.1883\n",
      "UAR:0.30092838924360665\n",
      "Epoch 11/100\n",
      "3342/3342 [==============================] - 1s 283us/step - loss: 0.1066 - acc: 0.2914 - val_loss: 1.4504 - val_acc: 0.1867\n",
      "UAR:0.2993659420289855\n",
      "Epoch 12/100\n",
      "3342/3342 [==============================] - 1s 305us/step - loss: 0.1066 - acc: 0.2917 - val_loss: 1.4534 - val_acc: 0.1903\n",
      "UAR:0.297890062835715\n",
      "Epoch 13/100\n",
      "3342/3342 [==============================] - 1s 282us/step - loss: 0.1062 - acc: 0.3010 - val_loss: 1.4538 - val_acc: 0.2013\n",
      "UAR:0.3095250160467552\n",
      "UAR imporved. Saving model\n",
      "\n",
      "Epoch 14/100\n",
      "3342/3342 [==============================] - 1s 282us/step - loss: 0.1066 - acc: 0.3004 - val_loss: 1.4532 - val_acc: 0.2080\n",
      "UAR:0.31010565521435085\n",
      "UAR imporved. Saving model\n",
      "\n",
      "Epoch 15/100\n",
      "3342/3342 [==============================] - 1s 286us/step - loss: 0.1063 - acc: 0.3028 - val_loss: 1.4530 - val_acc: 0.2110\n",
      "UAR:0.31866955508259853\n",
      "UAR imporved. Saving model\n",
      "\n",
      "Epoch 16/100\n",
      "3342/3342 [==============================] - 1s 296us/step - loss: 0.1063 - acc: 0.3154 - val_loss: 1.4492 - val_acc: 0.2210\n",
      "UAR:0.31397799060842535\n",
      "Epoch 17/100\n",
      "3342/3342 [==============================] - 1s 282us/step - loss: 0.1063 - acc: 0.3190 - val_loss: 1.4496 - val_acc: 0.2240\n",
      "UAR:0.31697936725110637\n",
      "Epoch 18/100\n",
      "3342/3342 [==============================] - 1s 288us/step - loss: 0.1061 - acc: 0.3193 - val_loss: 1.4491 - val_acc: 0.2270\n",
      "UAR:0.3199807438937874\n",
      "UAR imporved. Saving model\n",
      "\n",
      "Epoch 19/100\n",
      "3342/3342 [==============================] - 1s 286us/step - loss: 0.1060 - acc: 0.3226 - val_loss: 1.4485 - val_acc: 0.2283\n",
      "UAR:0.32047481504003245\n",
      "UAR imporved. Saving model\n",
      "\n",
      "Epoch 20/100\n",
      "3342/3342 [==============================] - 1s 283us/step - loss: 0.1057 - acc: 0.3160 - val_loss: 1.4497 - val_acc: 0.2263\n",
      "UAR:0.31322632681328333\n",
      "Epoch 21/100\n",
      "3342/3342 [==============================] - 1s 312us/step - loss: 0.1056 - acc: 0.3214 - val_loss: 1.4512 - val_acc: 0.2277\n",
      "UAR:0.33796683389074694\n",
      "UAR imporved. Saving model\n",
      "\n",
      "Epoch 22/100\n",
      "3342/3342 [==============================] - 1s 284us/step - loss: 0.1056 - acc: 0.3336 - val_loss: 1.4496 - val_acc: 0.2297\n",
      "UAR:0.3182409378061552\n",
      "Epoch 23/100\n",
      "3342/3342 [==============================] - 1s 285us/step - loss: 0.1059 - acc: 0.3073 - val_loss: 1.4520 - val_acc: 0.2267\n",
      "UAR:0.34326543022195194\n",
      "UAR imporved. Saving model\n",
      "\n",
      "Epoch 24/100\n",
      "3342/3342 [==============================] - 1s 283us/step - loss: 0.1059 - acc: 0.3259 - val_loss: 1.4548 - val_acc: 0.2223\n",
      "UAR:0.3416596989966555\n",
      "Epoch 25/100\n",
      "3342/3342 [==============================] - 1s 279us/step - loss: 0.1059 - acc: 0.3199 - val_loss: 1.4518 - val_acc: 0.2237\n",
      "UAR:0.340264053579271\n",
      "Epoch 26/100\n",
      "3342/3342 [==============================] - 1s 288us/step - loss: 0.1055 - acc: 0.3208 - val_loss: 1.4497 - val_acc: 0.2267\n",
      "UAR:0.33203375730549645\n",
      "Epoch 27/100\n",
      "3342/3342 [==============================] - 1s 284us/step - loss: 0.1052 - acc: 0.3300 - val_loss: 1.4515 - val_acc: 0.2263\n",
      "UAR:0.33285509780074996\n",
      "Epoch 28/100\n",
      "3342/3342 [==============================] - 1s 286us/step - loss: 0.1055 - acc: 0.3163 - val_loss: 1.4529 - val_acc: 0.2237\n",
      "UAR:0.3365912469173339\n",
      "Epoch 29/100\n",
      "3342/3342 [==============================] - 1s 285us/step - loss: 0.1052 - acc: 0.3253 - val_loss: 1.4561 - val_acc: 0.2223\n",
      "UAR:0.34543913212391475\n",
      "UAR imporved. Saving model\n",
      "\n",
      "Epoch 30/100\n",
      "3342/3342 [==============================] - 1s 284us/step - loss: 0.1050 - acc: 0.3154 - val_loss: 1.4508 - val_acc: 0.2290\n",
      "UAR:0.3366778149386845\n",
      "Epoch 31/100\n",
      "3342/3342 [==============================] - 1s 285us/step - loss: 0.1055 - acc: 0.3453 - val_loss: 1.4512 - val_acc: 0.2293\n",
      "UAR:0.33680133272524576\n",
      "Epoch 32/100\n",
      "3342/3342 [==============================] - 1s 294us/step - loss: 0.1050 - acc: 0.3366 - val_loss: 1.4481 - val_acc: 0.2300\n",
      "UAR:0.3361035100165535\n",
      "Epoch 33/100\n",
      "3342/3342 [==============================] - 1s 287us/step - loss: 0.1051 - acc: 0.3411 - val_loss: 1.4505 - val_acc: 0.2287\n",
      "UAR:0.3365542971521232\n",
      "Epoch 34/100\n",
      "3342/3342 [==============================] - 1s 296us/step - loss: 0.1049 - acc: 0.3372 - val_loss: 1.4515 - val_acc: 0.2267\n",
      "UAR:0.3377029069963853\n",
      "Epoch 35/100\n",
      "3342/3342 [==============================] - 1s 319us/step - loss: 0.1052 - acc: 0.3390 - val_loss: 1.4531 - val_acc: 0.2230\n",
      "UAR:0.33823392790784096\n",
      "Epoch 36/100\n",
      "3342/3342 [==============================] - 1s 328us/step - loss: 0.1054 - acc: 0.3363 - val_loss: 1.4544 - val_acc: 0.2230\n",
      "UAR:0.3410685027532854\n",
      "Epoch 37/100\n",
      "3342/3342 [==============================] - 1s 283us/step - loss: 0.1050 - acc: 0.3276 - val_loss: 1.4562 - val_acc: 0.2217\n",
      "UAR:0.34340900645248473\n",
      "Epoch 38/100\n",
      "3342/3342 [==============================] - 1s 285us/step - loss: 0.1049 - acc: 0.3273 - val_loss: 1.4559 - val_acc: 0.2223\n",
      "UAR:0.344600900307422\n",
      "Epoch 39/100\n",
      "3342/3342 [==============================] - 1s 282us/step - loss: 0.1050 - acc: 0.3345 - val_loss: 1.4567 - val_acc: 0.2230\n",
      "UAR:0.34507702740286905\n",
      "Epoch 40/100\n",
      "3342/3342 [==============================] - 1s 286us/step - loss: 0.1048 - acc: 0.3342 - val_loss: 1.4553 - val_acc: 0.2257\n",
      "UAR:0.3479548862589888\n",
      "UAR imporved. Saving model\n",
      "\n",
      "Epoch 41/100\n",
      "3342/3342 [==============================] - 1s 287us/step - loss: 0.1048 - acc: 0.3330 - val_loss: 1.4556 - val_acc: 0.2267\n",
      "UAR:0.351160014464117\n",
      "UAR imporved. Saving model\n",
      "\n",
      "Epoch 42/100\n",
      "3342/3342 [==============================] - 1s 287us/step - loss: 0.1046 - acc: 0.3405 - val_loss: 1.4575 - val_acc: 0.2240\n",
      "UAR:0.3539513052988861\n",
      "UAR imporved. Saving model\n",
      "\n",
      "Epoch 43/100\n",
      "3342/3342 [==============================] - 1s 286us/step - loss: 0.1046 - acc: 0.3268 - val_loss: 1.4582 - val_acc: 0.2227\n",
      "UAR:0.353457234152641\n",
      "Epoch 44/100\n",
      "3342/3342 [==============================] - 1s 320us/step - loss: 0.1045 - acc: 0.3262 - val_loss: 1.4592 - val_acc: 0.2230\n",
      "UAR:0.3535807519392023\n",
      "Epoch 45/100\n",
      "3342/3342 [==============================] - 1s 285us/step - loss: 0.1045 - acc: 0.3256 - val_loss: 1.4607 - val_acc: 0.2223\n",
      "UAR:0.3542785746478946\n",
      "UAR imporved. Saving model\n",
      "\n",
      "Epoch 46/100\n",
      "3342/3342 [==============================] - 1s 286us/step - loss: 0.1041 - acc: 0.3327 - val_loss: 1.4590 - val_acc: 0.2233\n",
      "UAR:0.35464912800757836\n",
      "UAR imporved. Saving model\n",
      "\n",
      "Epoch 47/100\n",
      "3342/3342 [==============================] - 1s 286us/step - loss: 0.1047 - acc: 0.3256 - val_loss: 1.4578 - val_acc: 0.2237\n",
      "UAR:0.3550017373164641\n",
      "UAR imporved. Saving model\n",
      "\n",
      "Epoch 48/100\n"
     ]
    },
    {
     "name": "stdout",
     "output_type": "stream",
     "text": [
      "3342/3342 [==============================] - 1s 315us/step - loss: 0.1042 - acc: 0.3351 - val_loss: 1.4601 - val_acc: 0.2213\n",
      "UAR:0.3548528795700256\n",
      "Epoch 49/100\n",
      "3342/3342 [==============================] - 1s 293us/step - loss: 0.1045 - acc: 0.3366 - val_loss: 1.4587 - val_acc: 0.2210\n",
      "UAR:0.3547293617834643\n",
      "Epoch 50/100\n",
      "3342/3342 [==============================] - 1s 289us/step - loss: 0.1039 - acc: 0.3330 - val_loss: 1.4582 - val_acc: 0.2230\n",
      "UAR:0.3556995600251564\n",
      "UAR imporved. Saving model\n",
      "\n",
      "Epoch 51/100\n",
      "3342/3342 [==============================] - 1s 292us/step - loss: 0.1038 - acc: 0.3432 - val_loss: 1.4575 - val_acc: 0.2233\n",
      "UAR:0.3558230778117176\n",
      "UAR imporved. Saving model\n",
      "\n",
      "Epoch 52/100\n",
      "3342/3342 [==============================] - 1s 288us/step - loss: 0.1043 - acc: 0.3348 - val_loss: 1.4582 - val_acc: 0.2243\n",
      "UAR:0.3566518142160504\n",
      "UAR imporved. Saving model\n",
      "\n",
      "Epoch 53/100\n",
      "3342/3342 [==============================] - 1s 316us/step - loss: 0.1041 - acc: 0.3384 - val_loss: 1.4590 - val_acc: 0.2230\n",
      "UAR:0.3559286515474809\n",
      "Epoch 54/100\n",
      "3342/3342 [==============================] - 1s 281us/step - loss: 0.1040 - acc: 0.3396 - val_loss: 1.4605 - val_acc: 0.2223\n",
      "UAR:0.35591070749668285\n",
      "Epoch 55/100\n",
      "3342/3342 [==============================] - 1s 281us/step - loss: 0.1039 - acc: 0.3423 - val_loss: 1.4621 - val_acc: 0.2210\n",
      "UAR:0.3584803027182067\n",
      "UAR imporved. Saving model\n",
      "\n",
      "Epoch 56/100\n",
      "3342/3342 [==============================] - 1s 283us/step - loss: 0.1036 - acc: 0.3357 - val_loss: 1.4565 - val_acc: 0.2250\n",
      "UAR:0.35878856635280254\n",
      "UAR imporved. Saving model\n",
      "\n",
      "Epoch 57/100\n",
      "3342/3342 [==============================] - 1s 286us/step - loss: 0.1038 - acc: 0.3282 - val_loss: 1.4541 - val_acc: 0.2303\n",
      "UAR:0.3544865609527258\n",
      "Epoch 58/100\n",
      "3342/3342 [==============================] - 1s 306us/step - loss: 0.1039 - acc: 0.3351 - val_loss: 1.4566 - val_acc: 0.2290\n",
      "UAR:0.36356353768163113\n",
      "UAR imporved. Saving model\n",
      "\n",
      "Epoch 59/100\n",
      "3342/3342 [==============================] - 1s 276us/step - loss: 0.1035 - acc: 0.3402 - val_loss: 1.4573 - val_acc: 0.2277\n",
      "UAR:0.3630694665353861\n",
      "Epoch 60/100\n",
      "3342/3342 [==============================] - 1s 275us/step - loss: 0.1036 - acc: 0.3510 - val_loss: 1.4551 - val_acc: 0.2277\n",
      "UAR:0.35538813522386525\n",
      "Epoch 61/100\n",
      "3342/3342 [==============================] - 1s 281us/step - loss: 0.1036 - acc: 0.3498 - val_loss: 1.4555 - val_acc: 0.2270\n",
      "UAR:0.35797567449618717\n",
      "Epoch 62/100\n",
      "3342/3342 [==============================] - 1s 277us/step - loss: 0.1037 - acc: 0.3387 - val_loss: 1.4567 - val_acc: 0.2270\n",
      "UAR:0.36471214752589315\n",
      "UAR imporved. Saving model\n",
      "\n",
      "Epoch 63/100\n",
      "3342/3342 [==============================] - 1s 301us/step - loss: 0.1039 - acc: 0.3465 - val_loss: 1.4581 - val_acc: 0.2270\n",
      "UAR:0.36471214752589315\n",
      "Epoch 64/100\n",
      "3342/3342 [==============================] - 1s 284us/step - loss: 0.1037 - acc: 0.3465 - val_loss: 1.4565 - val_acc: 0.2277\n",
      "UAR:0.35750694330981936\n",
      "Epoch 65/100\n",
      "3342/3342 [==============================] - 1s 285us/step - loss: 0.1035 - acc: 0.3438 - val_loss: 1.4579 - val_acc: 0.2260\n",
      "UAR:0.35877907094064265\n",
      "Epoch 66/100\n",
      "3342/3342 [==============================] - 1s 292us/step - loss: 0.1033 - acc: 0.3447 - val_loss: 1.4571 - val_acc: 0.2257\n",
      "UAR:0.3577106948722666\n",
      "Epoch 67/100\n",
      "3342/3342 [==============================] - 1s 283us/step - loss: 0.1033 - acc: 0.3360 - val_loss: 1.4586 - val_acc: 0.2253\n",
      "UAR:0.3566423188038905\n",
      "Epoch 68/100\n",
      "3342/3342 [==============================] - 1s 288us/step - loss: 0.1035 - acc: 0.3408 - val_loss: 1.4603 - val_acc: 0.2247\n",
      "UAR:0.35639528323076797\n",
      "Epoch 69/100\n",
      "3342/3342 [==============================] - 1s 286us/step - loss: 0.1034 - acc: 0.3357 - val_loss: 1.4584 - val_acc: 0.2280\n",
      "UAR:0.35763046109638064\n",
      "Epoch 70/100\n",
      "3342/3342 [==============================] - 1s 317us/step - loss: 0.1037 - acc: 0.3399 - val_loss: 1.4589 - val_acc: 0.2280\n",
      "UAR:0.3585753193781954\n",
      "Epoch 71/100\n",
      "3342/3342 [==============================] - 1s 302us/step - loss: 0.1030 - acc: 0.3423 - val_loss: 1.4599 - val_acc: 0.2287\n",
      "UAR:0.358822354951318\n",
      "Epoch 72/100\n",
      "3342/3342 [==============================] - 1s 311us/step - loss: 0.1032 - acc: 0.3417 - val_loss: 1.4578 - val_acc: 0.2310\n",
      "UAR:0.36346641258450607\n",
      "Epoch 73/100\n",
      "3342/3342 [==============================] - 1s 285us/step - loss: 0.1030 - acc: 0.3549 - val_loss: 1.4602 - val_acc: 0.2293\n",
      "UAR:0.3619039653698849\n",
      "Epoch 74/100\n",
      "3342/3342 [==============================] - 1s 288us/step - loss: 0.1030 - acc: 0.3438 - val_loss: 1.4571 - val_acc: 0.2340\n",
      "UAR:0.36552293094537225\n",
      "UAR imporved. Saving model\n",
      "\n",
      "Epoch 75/100\n",
      "3342/3342 [==============================] - 1s 313us/step - loss: 0.1032 - acc: 0.3516 - val_loss: 1.4551 - val_acc: 0.2380\n",
      "UAR:0.3686657694254125\n",
      "UAR imporved. Saving model\n",
      "\n",
      "Epoch 76/100\n",
      "3342/3342 [==============================] - 1s 276us/step - loss: 0.1033 - acc: 0.3564 - val_loss: 1.4552 - val_acc: 0.2373\n",
      "UAR:0.36841873385229\n",
      "Epoch 77/100\n",
      "3342/3342 [==============================] - 1s 278us/step - loss: 0.1031 - acc: 0.3501 - val_loss: 1.4569 - val_acc: 0.2353\n",
      "UAR:0.3679067186552469\n",
      "Epoch 78/100\n",
      "3342/3342 [==============================] - 1s 274us/step - loss: 0.1028 - acc: 0.3393 - val_loss: 1.4585 - val_acc: 0.2320\n",
      "UAR:0.36667154078963426\n",
      "Epoch 79/100\n",
      "3342/3342 [==============================] - 1s 290us/step - loss: 0.1032 - acc: 0.3435 - val_loss: 1.4612 - val_acc: 0.2320\n",
      "UAR:0.3671297238342832\n",
      "Epoch 80/100\n",
      "3342/3342 [==============================] - 1s 317us/step - loss: 0.1029 - acc: 0.3414 - val_loss: 1.4600 - val_acc: 0.2333\n",
      "UAR:0.3676237949805283\n",
      "Epoch 81/100\n",
      "3342/3342 [==============================] - 1s 403us/step - loss: 0.1028 - acc: 0.3480 - val_loss: 1.4595 - val_acc: 0.2347\n",
      "UAR:0.36929181593091265\n",
      "UAR imporved. Saving model\n",
      "\n",
      "Epoch 82/100\n",
      "3342/3342 [==============================] - 1s 262us/step - loss: 0.1026 - acc: 0.3483 - val_loss: 1.4584 - val_acc: 0.2383\n",
      "UAR:0.37065051158308654\n",
      "UAR imporved. Saving model\n",
      "\n",
      "Epoch 83/100\n",
      "3342/3342 [==============================] - 1s 319us/step - loss: 0.1024 - acc: 0.3414 - val_loss: 1.4590 - val_acc: 0.2370\n",
      "UAR:0.36364905892946\n",
      "Epoch 84/100\n",
      "3342/3342 [==============================] - 1s 371us/step - loss: 0.1026 - acc: 0.3537 - val_loss: 1.4590 - val_acc: 0.2360\n",
      "UAR:0.36233364728796136\n",
      "Epoch 85/100\n",
      "3342/3342 [==============================] - 1s 448us/step - loss: 0.1028 - acc: 0.3501 - val_loss: 1.4599 - val_acc: 0.2367\n",
      "UAR:0.3618649161015936\n",
      "Epoch 86/100\n",
      "3342/3342 [==============================] - 1s 420us/step - loss: 0.1029 - acc: 0.3528 - val_loss: 1.4580 - val_acc: 0.2380\n",
      "UAR:0.36235898724783866\n",
      "Epoch 87/100\n",
      "3342/3342 [==============================] - 1s 281us/step - loss: 0.1025 - acc: 0.3534 - val_loss: 1.4561 - val_acc: 0.2403\n",
      "UAR:0.3622787534719527\n",
      "Epoch 88/100\n",
      "3342/3342 [==============================] - 1s 280us/step - loss: 0.1022 - acc: 0.3615 - val_loss: 1.4554 - val_acc: 0.2423\n",
      "UAR:0.3632489517136448\n",
      "Epoch 89/100\n",
      "3342/3342 [==============================] - 1s 280us/step - loss: 0.1027 - acc: 0.3468 - val_loss: 1.4566 - val_acc: 0.2420\n",
      "UAR:0.36218057564526873\n",
      "Epoch 90/100\n",
      "3342/3342 [==============================] - 1s 315us/step - loss: 0.1026 - acc: 0.3528 - val_loss: 1.4558 - val_acc: 0.2440\n",
      "UAR:0.3648113989282659\n",
      "Epoch 91/100\n",
      "3342/3342 [==============================] - 1s 280us/step - loss: 0.1024 - acc: 0.3564 - val_loss: 1.4574 - val_acc: 0.2430\n",
      "UAR:0.36349598728676735\n",
      "Epoch 92/100\n",
      "3342/3342 [==============================] - 1s 280us/step - loss: 0.1022 - acc: 0.3630 - val_loss: 1.4573 - val_acc: 0.2423\n",
      "UAR:0.3632489517136448\n",
      "Epoch 93/100\n",
      "3342/3342 [==============================] - 1s 279us/step - loss: 0.1024 - acc: 0.3549 - val_loss: 1.4576 - val_acc: 0.2420\n",
      "UAR:0.3640702922088983\n",
      "Epoch 94/100\n",
      "3342/3342 [==============================] - 1s 292us/step - loss: 0.1020 - acc: 0.3495 - val_loss: 1.4590 - val_acc: 0.2397\n",
      "UAR:0.3643796175071088\n",
      "Epoch 95/100\n",
      "3342/3342 [==============================] - 1s 287us/step - loss: 0.1025 - acc: 0.3456 - val_loss: 1.4571 - val_acc: 0.2400\n",
      "UAR:0.36544799357548485\n",
      "Epoch 96/100\n",
      "3342/3342 [==============================] - 1s 312us/step - loss: 0.1023 - acc: 0.3501 - val_loss: 1.4573 - val_acc: 0.2420\n",
      "UAR:0.3654733335353621\n",
      "Epoch 97/100\n"
     ]
    },
    {
     "name": "stdout",
     "output_type": "stream",
     "text": [
      "3342/3342 [==============================] - 1s 297us/step - loss: 0.1023 - acc: 0.3627 - val_loss: 1.4534 - val_acc: 0.2470\n",
      "UAR:0.3661521505296418\n",
      "Epoch 98/100\n",
      "3342/3342 [==============================] - 1s 318us/step - loss: 0.1019 - acc: 0.3519 - val_loss: 1.4506 - val_acc: 0.2483\n",
      "UAR:0.36853593823951647\n",
      "Epoch 99/100\n",
      "3342/3342 [==============================] - 1s 308us/step - loss: 0.1023 - acc: 0.3591 - val_loss: 1.4528 - val_acc: 0.2487\n",
      "UAR:0.3681727807889119\n",
      "Epoch 100/100\n",
      "3342/3342 [==============================] - 1s 286us/step - loss: 0.1022 - acc: 0.3564 - val_loss: 1.4516 - val_acc: 0.2500\n",
      "UAR:0.36961171021697176\n"
     ]
    },
    {
     "data": {
      "text/plain": [
       "<keras.callbacks.History at 0x7f30497da8d0>"
      ]
     },
     "execution_count": 139,
     "metadata": {},
     "output_type": "execute_result"
    }
   ],
   "source": [
    "model.fit(tr_X, tr_y, \n",
    "          epochs=100,\n",
    "          validation_data=(dv_X, dv_y),\n",
    "          class_weight=class_weights_rescaled, \n",
    "          callbacks=[uar, reduce_lr])"
   ]
  },
  {
   "cell_type": "code",
   "execution_count": 140,
   "metadata": {},
   "outputs": [],
   "source": [
    "model_best = load_model('1DCNNModel-v3.h5')"
   ]
  },
  {
   "cell_type": "code",
   "execution_count": 141,
   "metadata": {},
   "outputs": [],
   "source": [
    "y_pred = model_best.predict(dv_X)\n",
    "y_pred = y_pred.argmax(axis = 1)"
   ]
  },
  {
   "cell_type": "code",
   "execution_count": 142,
   "metadata": {},
   "outputs": [],
   "source": [
    "def reporting(y_test,y_pred):\n",
    "    confusion_matrix = ConfusionMatrix(y_test, y_pred)\n",
    "    confusion_matrix.plot()\n",
    "    plt.show()\n",
    "    print(confusion_matrix)\n",
    "    print(\"\\n\",classification_report(y_test,y_pred))\n",
    "    print(accuracy_score(y_test,y_pred))"
   ]
  },
  {
   "cell_type": "code",
   "execution_count": 144,
   "metadata": {
    "scrolled": true
   },
   "outputs": [
    {
     "data": {
      "image/png": "[encoded data removed]",
      "text/plain": [
       "<Figure size 648x576 with 2 Axes>"
      ]
     },
     "metadata": {
      "needs_background": "light"
     },
     "output_type": "display_data"
    },
    {
     "name": "stdout",
     "output_type": "stream",
     "text": [
      "Predicted  angry  happy  neutral   sad  __all__\n",
      "Actual                                         \n",
      "angry         21      1        4     7       33\n",
      "happy        250      9      131   319      709\n",
      "neutral      881     19      554   570     2024\n",
      "sad           58      1       44   131      234\n",
      "__all__     1210     30      733  1027     3000\n",
      "\n",
      "               precision    recall  f1-score   support\n",
      "\n",
      "       angry       0.02      0.64      0.03        33\n",
      "       happy       0.30      0.01      0.02       709\n",
      "     neutral       0.76      0.27      0.40      2024\n",
      "         sad       0.13      0.56      0.21       234\n",
      "\n",
      "   micro avg       0.24      0.24      0.24      3000\n",
      "   macro avg       0.30      0.37      0.17      3000\n",
      "weighted avg       0.59      0.24      0.29      3000\n",
      "\n",
      "0.23833333333333334\n"
     ]
    }
   ],
   "source": [
    "reporting(le.inverse_transform(dv_y), le.inverse_transform(y_pred)) #on validation set"
   ]
  },
  {
   "cell_type": "code",
   "execution_count": 147,
   "metadata": {},
   "outputs": [
    {
     "data": {
      "image/png": "[encoded data removed]",
      "text/plain": [
       "<Figure size 648x576 with 2 Axes>"
      ]
     },
     "metadata": {
      "needs_background": "light"
     },
     "output_type": "display_data"
    },
    {
     "name": "stdout",
     "output_type": "stream",
     "text": [
      "Predicted  angry  happy  neutral  sad  __all__\n",
      "Actual                                        \n",
      "angry         14      0        0    0       14\n",
      "happy         79      2       45   91      217\n",
      "neutral      304      6      178  203      691\n",
      "sad           21      0       13   43       77\n",
      "__all__      418      8      236  337      999\n",
      "\n",
      "               precision    recall  f1-score   support\n",
      "\n",
      "       angry       0.03      1.00      0.06        14\n",
      "       happy       0.25      0.01      0.02       217\n",
      "     neutral       0.75      0.26      0.38       691\n",
      "         sad       0.13      0.56      0.21        77\n",
      "\n",
      "   micro avg       0.24      0.24      0.24       999\n",
      "   macro avg       0.29      0.46      0.17       999\n",
      "weighted avg       0.59      0.24      0.29       999\n",
      "\n",
      "0.23723723723723725\n"
     ]
    }
   ],
   "source": [
    "#test prediction \n",
    "y_pred_t = model_best.predict(test_X)\n",
    "y_pred_t = y_pred_t.argmax(axis = 1)\n",
    "reporting(le.inverse_transform(test_y), le.inverse_transform(y_pred_t))"
   ]
  },
  {
   "cell_type": "code",
   "execution_count": null,
   "metadata": {},
   "outputs": [],
   "source": []
  }
 ],
 "metadata": {
  "accelerator": "GPU",
  "colab": {
   "collapsed_sections": [],
   "name": "voice_mood_recog.ipynb",
   "provenance": [],
   "version": "0.3.2"
  },
  "kernelspec": {
   "display_name": "Python 3",
   "language": "python",
   "name": "python3"
  },
  "language_info": {
   "codemirror_mode": {
    "name": "ipython",
    "version": 3
   },
   "file_extension": ".py",
   "mimetype": "text/x-python",
   "name": "python",
   "nbconvert_exporter": "python",
   "pygments_lexer": "ipython3",
   "version": "3.6.8"
  },
  "toc": {
   "base_numbering": 1,
   "nav_menu": {},
   "number_sections": true,
   "sideBar": true,
   "skip_h1_title": false,
   "title_cell": "Table of Contents",
   "title_sidebar": "Contents",
   "toc_cell": false,
   "toc_position": {},
   "toc_section_display": true,
   "toc_window_display": false
  },
  "varInspector": {
   "cols": {
    "lenName": 16,
    "lenType": 16,
    "lenVar": 40
   },
   "kernels_config": {
    "python": {
     "delete_cmd_postfix": "",
     "delete_cmd_prefix": "del ",
     "library": "var_list.py",
     "varRefreshCmd": "print(var_dic_list())"
    },
    "r": {
     "delete_cmd_postfix": ") ",
     "delete_cmd_prefix": "rm(",
     "library": "var_list.r",
     "varRefreshCmd": "cat(var_dic_list()) "
    }
   },
   "types_to_exclude": [
    "module",
    "function",
    "builtin_function_or_method",
    "instance",
    "_Feature"
   ],
   "window_display": false
  }
 },
 "nbformat": 4,
 "nbformat_minor": 1
}
